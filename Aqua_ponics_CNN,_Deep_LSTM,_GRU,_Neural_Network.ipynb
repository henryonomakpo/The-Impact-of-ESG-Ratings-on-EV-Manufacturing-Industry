{
  "nbformat": 4,
  "nbformat_minor": 0,
  "metadata": {
    "colab": {
      "provenance": [],
      "toc_visible": true,
      "authorship_tag": "ABX9TyOc0Sb7Sj4ywHxKMBkrTkVW",
      "include_colab_link": true
    },
    "kernelspec": {
      "name": "python3",
      "display_name": "Python 3"
    },
    "language_info": {
      "name": "python"
    }
  },
  "cells": [
    {
      "cell_type": "markdown",
      "metadata": {
        "id": "view-in-github",
        "colab_type": "text"
      },
      "source": [
        "<a href=\"https://colab.research.google.com/github/henryonomakpo/The-Impact-of-ESG-Ratings-on-EV-Manufacturing-Industry/blob/main/Aqua_ponics_CNN%2C_Deep_LSTM%2C_GRU%2C_Neural_Network.ipynb\" target=\"_parent\"><img src=\"https://colab.research.google.com/assets/colab-badge.svg\" alt=\"Open In Colab\"/></a>"
      ]
    },
    {
      "cell_type": "code",
      "execution_count": null,
      "metadata": {
        "id": "bQ86S8ZNWf-V"
      },
      "outputs": [],
      "source": [
        "import pandas as pd\n",
        "import matplotlib.pyplot as plt\n",
        "import numpy as np\n",
        "from sklearn.preprocessing import StandardScaler, MinMaxScaler\n",
        "import os\n",
        "import IPython\n",
        "import IPython.display\n",
        "import tensorflow as tf\n",
        "from keras.models import Model\n",
        "import keras.layers as kl\n",
        "import keras.activations as ka\n",
        "import gc\n",
        "import warnings\n",
        "warnings.filterwarnings('ignore')"
      ]
    },
    {
      "cell_type": "markdown",
      "source": [
        "#### In this code, we first load the dataset from the CSV file. Then, we prepare the input data and normalize it. Next, we reshape the input data to fit the Conv1D layer. We create a Sequential model and add Conv1D, MaxPooling1D, and Dense layers to it. Finally, we compile and train the model on the input data.\n",
        "\n",
        "#### After training, the code also includes a line to visualize the model architecture using the plot_model function from TensorFlow."
      ],
      "metadata": {
        "id": "2PBR7BCYXblR"
      }
    },
    {
      "cell_type": "code",
      "source": [
        "import pandas as pd\n",
        "import tensorflow as tf\n",
        "from tensorflow.keras.models import Sequential\n",
        "from tensorflow.keras.layers import Conv1D, MaxPooling1D, Flatten, Dense\n",
        "\n",
        "# Load the dataset\n",
        "data = pd.read_csv(\"/content/IoTPond10.csv\")\n",
        "\n",
        "import pandas as pd\n",
        "import tensorflow as tf\n",
        "from tensorflow.keras.models import Sequential\n",
        "from tensorflow.keras.layers import Conv1D, MaxPooling1D, Flatten, Dense\n",
        "\n",
        "# Load the dataset\n",
        "\n",
        "\n",
        "# Prepare the input data\n",
        "X = data[['TEMPERATURE', 'TURBIDITY', 'DISOLVED OXYGEN', 'pH', 'AMMONIA', 'NITRATE', 'Population', 'Length', 'Weight']].values\n",
        "y = data['entry_id'].values\n",
        "\n",
        "# Normalize the input data\n",
        "X = (X - X.mean()) / X.std()\n",
        "\n",
        "# Reshape the input data for Conv1D\n",
        "X = X.reshape(X.shape[0], X.shape[1], 1)\n",
        "\n",
        "# Create the convolutional model\n",
        "model = Sequential()\n",
        "model.add(Conv1D(32, 3, activation='relu', input_shape=(X.shape[1], 1)))\n",
        "model.add(MaxPooling1D(1))  # Adjust the pooling parameter here\n",
        "model.add(Conv1D(64, 3, activation='relu'))\n",
        "model.add(MaxPooling1D(1))  # Adjust the pooling parameter here\n",
        "model.add(Flatten())\n",
        "model.add(Dense(128, activation='relu'))\n",
        "model.add(Dense(1, activation='linear'))\n",
        "\n",
        "# Compile the model\n",
        "model.compile(optimizer='adam', loss='mse')\n",
        "\n",
        "# Train the model\n",
        "model.fit(X, y, epochs=10, validation_split=0.2)\n",
        "\n",
        "# Visualize the model architecture\n",
        "tf.keras.utils.plot_model(model, show_shapes=True)"
      ],
      "metadata": {
        "colab": {
          "base_uri": "https://localhost:8080/",
          "height": 1000
        },
        "id": "TbWDZW9zWjZK",
        "outputId": "dfe22cc7-def5-4e63-a095-270b2ce1566a"
      },
      "execution_count": 5,
      "outputs": [
        {
          "output_type": "stream",
          "name": "stderr",
          "text": [
            "<ipython-input-5-e281b12a0f57>:22: RuntimeWarning: invalid value encountered in subtract\n",
            "  X = (X - X.mean()) / X.std()\n",
            "/usr/local/lib/python3.10/dist-packages/numpy/core/_methods.py:173: RuntimeWarning: invalid value encountered in subtract\n",
            "  x = asanyarray(arr - arrmean)\n"
          ]
        },
        {
          "output_type": "stream",
          "name": "stdout",
          "text": [
            "Epoch 1/10\n",
            "16/16 [==============================] - 2s 24ms/step - loss: nan - val_loss: nan\n",
            "Epoch 2/10\n",
            "16/16 [==============================] - 0s 8ms/step - loss: nan - val_loss: nan\n",
            "Epoch 3/10\n",
            "16/16 [==============================] - 0s 8ms/step - loss: nan - val_loss: nan\n",
            "Epoch 4/10\n",
            "16/16 [==============================] - 0s 7ms/step - loss: nan - val_loss: nan\n",
            "Epoch 5/10\n",
            "16/16 [==============================] - 0s 8ms/step - loss: nan - val_loss: nan\n",
            "Epoch 6/10\n",
            "16/16 [==============================] - 0s 9ms/step - loss: nan - val_loss: nan\n",
            "Epoch 7/10\n",
            "16/16 [==============================] - 0s 7ms/step - loss: nan - val_loss: nan\n",
            "Epoch 8/10\n",
            "16/16 [==============================] - 0s 8ms/step - loss: nan - val_loss: nan\n",
            "Epoch 9/10\n",
            "16/16 [==============================] - 0s 7ms/step - loss: nan - val_loss: nan\n",
            "Epoch 10/10\n",
            "16/16 [==============================] - 0s 8ms/step - loss: nan - val_loss: nan\n"
          ]
        },
        {
          "output_type": "execute_result",
          "data": {
            "image/png": "[encoded data removed]",
            "text/plain": [
              "<IPython.core.display.Image object>"
            ]
          },
          "metadata": {},
          "execution_count": 5
        }
      ]
    },
    {
      "cell_type": "markdown",
      "source": [
        "### Create Convolutional Model\n",
        "#### In this example, we create a convolutional model using the Sequential API. The model consists of Conv2D layers for feature extraction, MaxPooling2D layers for downsampling, and Dense layers for classification. You can customize the number of Conv2D and Dense layers, as well as their respective parameters, based on your specific requirements."
      ],
      "metadata": {
        "id": "VuV9_NnIZeHV"
      }
    },
    {
      "cell_type": "code",
      "source": [
        "import pandas as pd\n",
        "import numpy as np\n",
        "from sklearn.model_selection import train_test_split\n",
        "from sklearn.preprocessing import MinMaxScaler\n",
        "from keras.models import Sequential\n",
        "from keras.layers import Conv1D, MaxPooling1D, Flatten, Dense\n",
        "\n"
      ],
      "metadata": {
        "id": "xSwOfa5tZP4V"
      },
      "execution_count": 17,
      "outputs": []
    },
    {
      "cell_type": "code",
      "source": [
        "import pandas as pd\n",
        "import numpy as np\n",
        "from sklearn.model_selection import train_test_split\n",
        "from sklearn.preprocessing import MinMaxScaler\n",
        "from keras.models import Sequential\n",
        "from keras.layers import Conv1D, MaxPooling1D, Flatten, Dense\n",
        "\n",
        "# Load the dataset\n",
        "dataset = pd.read_csv(\"/content/IoTPond10.csv\")\n",
        "\n",
        "# Select the relevant features for the CNN model\n",
        "features = dataset[['TEMPERATURE', 'TURBIDITY', 'DISOLVED OXYGEN', 'pH', 'AMMONIA', 'NITRATE']]\n",
        "target = dataset['Population']\n",
        "\n",
        "# Replace any infinite or very large values with NaN\n",
        "features = features.replace([np.inf, np.nan, np.NINF, np.PINF], np.nan)\n",
        "\n",
        "# Drop any rows with NaN values\n",
        "features = features.dropna()\n",
        "target = target.iloc[features.index]\n",
        "\n",
        "# Split the dataset into training and testing sets\n",
        "X_train, X_test, y_train, y_test = train_test_split(features, target, test_size=0.2, random_state=42)\n",
        "\n",
        "# Normalize the features using Min-Max scaling\n",
        "scaler = MinMaxScaler()\n",
        "X_train_scaled = scaler.fit_transform(X_train)\n",
        "X_test_scaled = scaler.transform(X_test)\n",
        "\n",
        "# Reshape the input data to be 3-dimensional for CNN\n",
        "X_train_reshaped = np.reshape(X_train_scaled, (X_train_scaled.shape[0], X_train_scaled.shape[1], 1))\n",
        "X_test_reshaped = np.reshape(X_test_scaled, (X_test_scaled.shape[0], X_test_scaled.shape[1], 1))\n",
        "\n",
        "# Build the CNN model\n",
        "model = Sequential()\n",
        "model.add(Conv1D(filters=32, kernel_size=3, activation='relu', input_shape=(X_train_reshaped.shape[1], 1)))\n",
        "model.add(MaxPooling1D(pool_size=2))\n",
        "model.add(Flatten())\n",
        "model.add(Dense(64, activation='relu'))\n",
        "model.add(Dense(1))\n",
        "\n",
        "# Compile and train the model\n",
        "model.compile(loss='mean_squared_error', optimizer='adam')\n",
        "model.fit(X_train_reshaped, y_train, epochs=50, batch_size=32, verbose=1)\n",
        "\n",
        "# Evaluate the model\n",
        "score = model.evaluate(X_test_reshaped, y_test, verbose=0)\n",
        "print(\"The Mean Squared Error is :\", score)"
      ],
      "metadata": {
        "colab": {
          "base_uri": "https://localhost:8080/"
        },
        "id": "qQlxiPpjeft4",
        "outputId": "7e042283-84e2-4ed5-8854-20064f967bd8"
      },
      "execution_count": 19,
      "outputs": [
        {
          "output_type": "stream",
          "name": "stdout",
          "text": [
            "Epoch 1/50\n",
            "16/16 [==============================] - 1s 2ms/step - loss: 2450.3718\n",
            "Epoch 2/50\n",
            "16/16 [==============================] - 0s 3ms/step - loss: 2351.0903\n",
            "Epoch 3/50\n",
            "16/16 [==============================] - 0s 2ms/step - loss: 2198.3950\n",
            "Epoch 4/50\n",
            "16/16 [==============================] - 0s 2ms/step - loss: 1958.5906\n",
            "Epoch 5/50\n",
            "16/16 [==============================] - 0s 3ms/step - loss: 1611.3455\n",
            "Epoch 6/50\n",
            "16/16 [==============================] - 0s 2ms/step - loss: 1167.2750\n",
            "Epoch 7/50\n",
            "16/16 [==============================] - 0s 3ms/step - loss: 690.5165\n",
            "Epoch 8/50\n",
            "16/16 [==============================] - 0s 2ms/step - loss: 299.0457\n",
            "Epoch 9/50\n",
            "16/16 [==============================] - 0s 3ms/step - loss: 91.2936\n",
            "Epoch 10/50\n",
            "16/16 [==============================] - 0s 3ms/step - loss: 41.3415\n",
            "Epoch 11/50\n",
            "16/16 [==============================] - 0s 2ms/step - loss: 39.6558\n",
            "Epoch 12/50\n",
            "16/16 [==============================] - 0s 3ms/step - loss: 38.5072\n",
            "Epoch 13/50\n",
            "16/16 [==============================] - 0s 3ms/step - loss: 37.3886\n",
            "Epoch 14/50\n",
            "16/16 [==============================] - 0s 2ms/step - loss: 36.7021\n",
            "Epoch 15/50\n",
            "16/16 [==============================] - 0s 3ms/step - loss: 36.0285\n",
            "Epoch 16/50\n",
            "16/16 [==============================] - 0s 2ms/step - loss: 35.3009\n",
            "Epoch 17/50\n",
            "16/16 [==============================] - 0s 2ms/step - loss: 34.5898\n",
            "Epoch 18/50\n",
            "16/16 [==============================] - 0s 2ms/step - loss: 33.9283\n",
            "Epoch 19/50\n",
            "16/16 [==============================] - 0s 2ms/step - loss: 33.2598\n",
            "Epoch 20/50\n",
            "16/16 [==============================] - 0s 2ms/step - loss: 32.5640\n",
            "Epoch 21/50\n",
            "16/16 [==============================] - 0s 2ms/step - loss: 31.9189\n",
            "Epoch 22/50\n",
            "16/16 [==============================] - 0s 2ms/step - loss: 31.2567\n",
            "Epoch 23/50\n",
            "16/16 [==============================] - 0s 2ms/step - loss: 30.5955\n",
            "Epoch 24/50\n",
            "16/16 [==============================] - 0s 2ms/step - loss: 29.8716\n",
            "Epoch 25/50\n",
            "16/16 [==============================] - 0s 3ms/step - loss: 29.2409\n",
            "Epoch 26/50\n",
            "16/16 [==============================] - 0s 2ms/step - loss: 28.5221\n",
            "Epoch 27/50\n",
            "16/16 [==============================] - 0s 2ms/step - loss: 27.8295\n",
            "Epoch 28/50\n",
            "16/16 [==============================] - 0s 2ms/step - loss: 27.2221\n",
            "Epoch 29/50\n",
            "16/16 [==============================] - 0s 3ms/step - loss: 26.5732\n",
            "Epoch 30/50\n",
            "16/16 [==============================] - 0s 3ms/step - loss: 25.8950\n",
            "Epoch 31/50\n",
            "16/16 [==============================] - 0s 3ms/step - loss: 25.3228\n",
            "Epoch 32/50\n",
            "16/16 [==============================] - 0s 2ms/step - loss: 24.6674\n",
            "Epoch 33/50\n",
            "16/16 [==============================] - 0s 2ms/step - loss: 24.0875\n",
            "Epoch 34/50\n",
            "16/16 [==============================] - 0s 3ms/step - loss: 23.4720\n",
            "Epoch 35/50\n",
            "16/16 [==============================] - 0s 3ms/step - loss: 22.9022\n",
            "Epoch 36/50\n",
            "16/16 [==============================] - 0s 2ms/step - loss: 22.3214\n",
            "Epoch 37/50\n",
            "16/16 [==============================] - 0s 3ms/step - loss: 21.7175\n",
            "Epoch 38/50\n",
            "16/16 [==============================] - 0s 3ms/step - loss: 21.2376\n",
            "Epoch 39/50\n",
            "16/16 [==============================] - 0s 3ms/step - loss: 20.5861\n",
            "Epoch 40/50\n",
            "16/16 [==============================] - 0s 2ms/step - loss: 20.0731\n",
            "Epoch 41/50\n",
            "16/16 [==============================] - 0s 2ms/step - loss: 19.3986\n",
            "Epoch 42/50\n",
            "16/16 [==============================] - 0s 2ms/step - loss: 18.4751\n",
            "Epoch 43/50\n",
            "16/16 [==============================] - 0s 2ms/step - loss: 17.6901\n",
            "Epoch 44/50\n",
            "16/16 [==============================] - 0s 2ms/step - loss: 16.8020\n",
            "Epoch 45/50\n",
            "16/16 [==============================] - 0s 2ms/step - loss: 16.1017\n",
            "Epoch 46/50\n",
            "16/16 [==============================] - 0s 2ms/step - loss: 15.3118\n",
            "Epoch 47/50\n",
            "16/16 [==============================] - 0s 2ms/step - loss: 14.6090\n",
            "Epoch 48/50\n",
            "16/16 [==============================] - 0s 2ms/step - loss: 13.8682\n",
            "Epoch 49/50\n",
            "16/16 [==============================] - 0s 2ms/step - loss: 13.1755\n",
            "Epoch 50/50\n",
            "16/16 [==============================] - 0s 2ms/step - loss: 12.5315\n",
            "The Mean Squared Error is : 3.141233444213867\n"
          ]
        }
      ]
    },
    {
      "cell_type": "markdown",
      "source": [
        "# RNN model"
      ],
      "metadata": {
        "id": "We7JdLh8f9Mc"
      }
    },
    {
      "cell_type": "code",
      "source": [
        "import pandas as pd\n",
        "from tensorflow.keras.models import Sequential\n",
        "from tensorflow.keras.layers import LSTM, Dense\n",
        "\n",
        "# Load the CSV dataset\n",
        "data = pd.read_csv(\"/content/IoTPond10.csv\")\n",
        "\n",
        "# Preprocess the data (if required)\n",
        "# ...\n",
        "\n",
        "# Create the RNN model\n",
        "def create_rnn_model():\n",
        "    model = Sequential()\n",
        "    model.add(LSTM(64, input_shape=(1, 1)))\n",
        "    model.add(Dense(1))\n",
        "    return model\n",
        "\n",
        "rnn_model = create_rnn_model()\n",
        "\n",
        "# Visualize the model summary\n",
        "rnn_model.summary()"
      ],
      "metadata": {
        "colab": {
          "base_uri": "https://localhost:8080/"
        },
        "id": "xeNB8w2DY8wX",
        "outputId": "7467e3c0-8a83-4431-87cc-9e229a5e3e1d"
      },
      "execution_count": 20,
      "outputs": [
        {
          "output_type": "stream",
          "name": "stdout",
          "text": [
            "Model: \"sequential_11\"\n",
            "_________________________________________________________________\n",
            " Layer (type)                Output Shape              Param #   \n",
            "=================================================================\n",
            " lstm_4 (LSTM)               (None, 64)                16896     \n",
            "                                                                 \n",
            " dense_12 (Dense)            (None, 1)                 65        \n",
            "                                                                 \n",
            "=================================================================\n",
            "Total params: 16961 (66.25 KB)\n",
            "Trainable params: 16961 (66.25 KB)\n",
            "Non-trainable params: 0 (0.00 Byte)\n",
            "_________________________________________________________________\n"
          ]
        }
      ]
    },
    {
      "cell_type": "code",
      "source": [
        "import pandas as pd\n",
        "from tensorflow.keras.models import Sequential\n",
        "from tensorflow.keras.layers import LSTM, Dense\n",
        "from tensorflow.keras.utils import plot_model\n",
        "\n",
        "# Load the CSV dataset\n",
        "data = pd.read_csv(\"/content/IoTPond10.csv\")\n",
        "\n",
        "# Preprocess the data (if required)\n",
        "# ...\n",
        "\n",
        "# Create the RNN model\n",
        "def create_rnn_model():\n",
        "    model = Sequential()\n",
        "    model.add(LSTM(64, input_shape=(1, 1)))\n",
        "    model.add(Dense(1))\n",
        "    return model\n",
        "\n",
        "rnn_model = create_rnn_model()\n",
        "\n",
        "# Visualize the model summary\n",
        "rnn_model.summary()\n",
        "\n",
        "# Plot the model architecture\n",
        "plot_model(rnn_model, to_file='rnn_model.png', show_shapes=True)"
      ],
      "metadata": {
        "colab": {
          "base_uri": "https://localhost:8080/",
          "height": 544
        },
        "id": "rpwPpHfngMOh",
        "outputId": "3b7323d4-1cd0-4cae-903d-32979b34522f"
      },
      "execution_count": 23,
      "outputs": [
        {
          "output_type": "stream",
          "name": "stdout",
          "text": [
            "Model: \"sequential_12\"\n",
            "_________________________________________________________________\n",
            " Layer (type)                Output Shape              Param #   \n",
            "=================================================================\n",
            " lstm_5 (LSTM)               (None, 64)                16896     \n",
            "                                                                 \n",
            " dense_13 (Dense)            (None, 1)                 65        \n",
            "                                                                 \n",
            "=================================================================\n",
            "Total params: 16961 (66.25 KB)\n",
            "Trainable params: 16961 (66.25 KB)\n",
            "Non-trainable params: 0 (0.00 Byte)\n",
            "_________________________________________________________________\n"
          ]
        },
        {
          "output_type": "execute_result",
          "data": {
            "image/png": "[encoded data removed]",
            "text/plain": [
              "<IPython.core.display.Image object>"
            ]
          },
          "metadata": {},
          "execution_count": 23
        }
      ]
    },
    {
      "cell_type": "markdown",
      "source": [
        "## Creating window"
      ],
      "metadata": {
        "id": "6BSq7hwDhOTu"
      }
    },
    {
      "cell_type": "code",
      "source": [
        "import numpy as np\n",
        "import tensorflow as tf\n",
        "import matplotlib.pyplot as plt\n",
        "\n",
        "class WindowGenerator():\n",
        "    def __init__(self, input_width, label_width, shift,\n",
        "                 train_data, val_data, test_data,\n",
        "                 label_columns=None):\n",
        "        # Store the raw data.\n",
        "        self.train_data = train_data\n",
        "        self.val_data = val_data\n",
        "        self.test_data = test_data\n",
        "\n",
        "        # Work out the label column indices.\n",
        "        self.label_columns = label_columns\n",
        "        if label_columns is not None:\n",
        "            self.label_columns_indices = {name: i for i, name in enumerate(label_columns)}\n",
        "        self.column_indices = {name: i for i, name in enumerate(train_data[0].columns)}\n",
        "\n",
        "        # Work out the window parameters.\n",
        "        self.input_width = input_width\n",
        "        self.label_width = label_width\n",
        "        self.shift = shift\n",
        "\n",
        "        self.total_window_size = input_width + shift\n",
        "\n",
        "        self.input_slice = slice(0, input_width)\n",
        "        self.input_indices = np.arange(self.total_window_size)[self.input_slice]\n",
        "\n",
        "        self.label_start = self.total_window_size - self.label_width\n",
        "        self.labels_slice = slice(self.label_start, None)\n",
        "        self.label_indices = np.arange(self.total_window_size)[self.labels_slice]\n",
        "\n",
        "    def __repr__(self):\n",
        "        return '\\n'.join([\n",
        "            f'Total window size: {self.total_window_size}',\n",
        "            f'Input indices: {self.input_indices}',\n",
        "            f'Label indices: {self.label_indices}',\n",
        "            f'Label column name(s): {self.label_columns}'\n",
        "        ])\n",
        "\n",
        "    def split_window(self, features):\n",
        "        inputs = features[:, self.input_slice, :]\n",
        "        labels = features[:, self.labels_slice, :]\n",
        "        if self.label_columns is not None:\n",
        "            labels = tf.stack(\n",
        "                [labels[:, :, self.column_indices[name]] for name in self.label_columns],\n",
        "                axis=-1\n",
        "            )\n",
        "\n",
        "        # Slicing doesn't preserve static shape information, so set the shapes manually.\n",
        "        inputs.set_shape([None, self.input_width, None])\n",
        "        labels.set_shape([None, self.label_width, None])\n",
        "\n",
        "        return inputs, labels\n",
        "\n",
        "    def plot(self, model=None, plot_col=None, max_subplots=3):\n",
        "        inputs, labels = self.example\n",
        "        plot_col_index = self.column_indices[plot_col]\n",
        "        max_n = min(max_subplots, len(inputs))\n",
        "        plt.figure(figsize=(12, 8))\n",
        "        for n in range(max_n):\n",
        "            plt.subplot(max_n, 1, n+1)\n",
        "            plt.ylabel(f'{plot_col} [normed]')\n",
        "            plt.plot(self.input_indices, inputs[n, :, plot_col_index], label='Inputs', marker='.', zorder=-10)\n",
        "\n",
        "            if self.label_columns:\n",
        "                label_col_index = self.label_columns_indices.get(plot_col, None)\n",
        "            else:\n",
        "                label_col_index = plot_col_index\n",
        "\n",
        "            if label_col_index is not None:\n",
        "                if model is not None:\n",
        "                    predictions = model(inputs)\n",
        "                    plt.scatter(self.label_indices, predictions[n, :, label_col_index],\n",
        "                                marker='X', edgecolors='k', label='Predictions',\n",
        "                                c='#ff7f0e', s=64)\n",
        "                plt.scatter(self.label_indices, labels[n, :, label_col_index],\n",
        "                            edgecolors='k', label='Labels', c='#2ca02c', s=64)\n",
        "        plt.xlabel(plot_col)\n",
        "        plt.legend()\n",
        "\n",
        "    def make_dataset(self, data):\n",
        "        data = np.array(data, dtype=np.float32)\n",
        "        ds = tf.keras.utils.timeseries_dataset_from_array(\n",
        "            data=data,\n",
        "            targets=None,\n",
        "            sequence_length=self.total_window_size,\n",
        "            sequence_stride=1,\n",
        "            shuffle=True,\n",
        "            batch_size=32\n",
        "        )\n",
        "\n",
        "        ds = ds.map(self.split_window)\n",
        "\n",
        "        return ds\n",
        "\n",
        "    @property\n",
        "    def train(self):\n",
        "        full_dataset = None\n",
        "        for i in range(len(self.train_data)):\n",
        "            if i == 0:\n",
        "                full_dataset = self.make_dataset(self.train_data[0])\n",
        "            else:\n",
        "                full_dataset = full_dataset.concatenate(self.make_dataset(self.train_data[i]))\n",
        "\n",
        "        return full_dataset\n",
        "\n",
        "    @property\n",
        "    def val(self):\n",
        "        full_dataset = None\n",
        "        for i in range(len(self.val_data)):\n",
        "            if i == 0:\n",
        "                full_dataset = self.make_dataset(self.val_data[0])\n",
        "            else:\n",
        "                full_dataset = full_dataset.concatenate(self.make_dataset(self.val_data[i]))\n",
        "\n",
        "        return full_dataset\n",
        "\n",
        "    @property\n",
        "    def test(self):\n",
        "        full_dataset = None\n",
        "        for i in range(len(self.test_data)):\n",
        "            if i == 0:\n",
        "                full_dataset = self.make_dataset(self.test_data[0])\n",
        "            else:\n",
        "                full_dataset = full_dataset.concatenate(self.make_dataset(self.test_data[i]))\n",
        "\n",
        "        return full_dataset\n",
        "\n",
        "    @property\n",
        "    def example(self):\n",
        "        result = getattr(self, '_example', None)"
      ],
      "metadata": {
        "id": "Nw0m2EH_hvCs"
      },
      "execution_count": 28,
      "outputs": []
    },
    {
      "cell_type": "code",
      "source": [
        "import pandas as pd\n",
        "\n",
        "# Load the data from the CSV file\n",
        "data = pd.read_csv(\"/content/IoTPond10.csv\")"
      ],
      "metadata": {
        "id": "Ie69o-YThTfE"
      },
      "execution_count": 30,
      "outputs": []
    },
    {
      "cell_type": "markdown",
      "source": [
        "### Next, we need to preprocess the data and create a WindowGenerator. This will help us generate the input and target windows for the Convolutional Model:"
      ],
      "metadata": {
        "id": "XQ5FaXNAjzD3"
      }
    },
    {
      "cell_type": "code",
      "source": [
        "from tensorflow.keras.preprocessing.sequence import TimeseriesGenerator\n",
        "\n",
        "# Set the window size and output size\n",
        "window_size = 10\n",
        "output_size = 1\n",
        "\n",
        "# Extract the relevant columns for input and target variables\n",
        "input_columns = [\"TEMPERATURE\", \"TURBIDITY\", \"DISOLVED OXYGEN\", \"pH\", \"AMMONIA\", \"NITRATE\"]\n",
        "target_column = \"Population\"\n",
        "\n",
        "# Create the input and target data\n",
        "input_data = data[input_columns].values\n",
        "target_data = data[target_column].values\n",
        "\n",
        "# Create the WindowGenerator\n",
        "window_generator = TimeseriesGenerator(input_data, target_data, length=window_size, sampling_rate=1, stride=1, batch_size=1)"
      ],
      "metadata": {
        "id": "fc33AYuVjtl0"
      },
      "execution_count": 31,
      "outputs": []
    },
    {
      "cell_type": "markdown",
      "source": [
        "### Now, we can create the Convolutional Model using the following code:"
      ],
      "metadata": {
        "id": "GxJkHJYNj-KC"
      }
    },
    {
      "cell_type": "code",
      "source": [
        "from tensorflow.keras.models import Sequential\n",
        "from tensorflow.keras.layers import Conv1D, Flatten, Dense\n",
        "\n",
        "# Create the Convolutional Model\n",
        "model = Sequential()\n",
        "model.add(Conv1D(filters=32, kernel_size=3, activation=\"relu\", input_shape=(window_size, len(input_columns))))\n",
        "model.add(Flatten())\n",
        "model.add(Dense(units=output_size))\n",
        "\n",
        "# Compile the model\n",
        "model.compile(optimizer=\"adam\", loss=\"mse\")"
      ],
      "metadata": {
        "id": "gA7xTxwkjt15"
      },
      "execution_count": 32,
      "outputs": []
    },
    {
      "cell_type": "markdown",
      "source": [
        "### Finally, let's visualize the WindowGenerator using the plot method:"
      ],
      "metadata": {
        "id": "Ppk61cq-kIef"
      }
    },
    {
      "cell_type": "code",
      "source": [
        "import matplotlib.pyplot as plt\n",
        "\n",
        "# Function to plot the input and target windows\n",
        "def plot_window(input_window, target_window):\n",
        "    plt.figure(figsize=(10, 6))\n",
        "    plt.subplot(2, 1, 1)\n",
        "    plt.plot(input_window[:, 0], label=\"Temperature\")\n",
        "    plt.plot(input_window[:, 1], label=\"Turbidity\")\n",
        "    plt.plot(input_window[:, 2], label=\"Disolved Oxygen\")\n",
        "    plt.plot(input_window[:, 3], label=\"pH\")\n",
        "    plt.plot(input_window[:, 4], label=\"Ammonia\")\n",
        "    plt.plot(input_window[:, 5], label=\"Nitrate\")\n",
        "    plt.xlabel(\"Time\")\n",
        "    plt.ylabel(\"Value\")\n",
        "    plt.title(\"Input Window\")\n",
        "    plt.legend()\n",
        "\n",
        "    plt.subplot(2, 1, 2)\n",
        "    plt.plot(target_window, label=\"Population\")\n",
        "    plt.xlabel(\"Time\")\n",
        "    plt.ylabel(\"Value\")\n",
        "    plt.title(\"Target Window\")\n",
        "    plt.legend()\n",
        "\n",
        "    plt.tight_layout()\n",
        "    plt.show()\n",
        "\n",
        "# Generate the first window from the WindowGenerator\n",
        "input_window, target_window = window_generator[0]\n",
        "plot_window(input_window[0], target_window[0])"
      ],
      "metadata": {
        "colab": {
          "base_uri": "https://localhost:8080/",
          "height": 607
        },
        "id": "MMhOxXnSkbTJ",
        "outputId": "436c243b-bc95-430e-ca0f-de54761d35ae"
      },
      "execution_count": 34,
      "outputs": [
        {
          "output_type": "display_data",
          "data": {
            "text/plain": [
              "<Figure size 1000x600 with 2 Axes>"
            ],
            "image/png": "[encoded data removed]"
          },
          "metadata": {}
        }
      ]
    },
    {
      "cell_type": "code",
      "source": [
        "import tensorflow as tf\n",
        "from tensorflow.keras import layers as kl\n",
        "\n",
        "def create_rnn_model(input_shape):\n",
        "    inputs = kl.Input(shape=input_shape)\n",
        "\n",
        "    rnn1 = kl.LSTM(units=64, activation=\"relu\", return_sequences=True)(inputs)\n",
        "    rnn1 = kl.Dropout(rate=0.3)(rnn1)\n",
        "    rnn2 = kl.LSTM(units=32, activation=\"relu\", return_sequences=True)(rnn1)\n",
        "    rnn2 = kl.Dropout(rate=0.2)(rnn2)\n",
        "    dense1 = kl.Dense(units=16)(rnn2)\n",
        "    dense1 = kl.PReLU()(dense1)\n",
        "    dense1 = kl.Dropout(rate=0.2)(dense1)\n",
        "    outputs = kl.Dense(units=len(TARGET_LABELS))(dense1)\n",
        "\n",
        "    model = tf.keras.Model(inputs=inputs, outputs=outputs)\n",
        "    model.compile(optimizer=\"adam\", loss=tf.keras.losses.MeanSquaredError(), metrics=[tf.keras.metrics.MeanAbsoluteError()])\n",
        "\n",
        "    return model"
      ],
      "metadata": {
        "id": "oRdXCWl_ojJR"
      },
      "execution_count": 60,
      "outputs": []
    },
    {
      "cell_type": "code",
      "source": [
        "\n",
        "import pandas as pd\n",
        "from sklearn.model_selection import train_test_split\n",
        "from sklearn.preprocessing import MinMaxScaler\n",
        "from keras.models import Sequential\n",
        "from keras.layers import Dense, Conv1D, LSTM, GRU\n",
        "from keras.metrics import MeanSquaredError\n",
        "\n",
        "\n",
        "\n",
        "import pandas as pd\n",
        "from sklearn.model_selection import train_test_split\n",
        "from sklearn.preprocessing import MinMaxScaler, StandardScaler\n",
        "from keras.models import Sequential\n",
        "from keras.layers import Dense, Conv1D, LSTM, GRU\n",
        "from keras.metrics import MeanSquaredError\n",
        "import numpy as np\n",
        "\n",
        "# Load the dataset\n",
        "df = pd.read_csv('/content/IoTPond10.csv')\n",
        "\n",
        "# Remove infinite or large values\n",
        "df.replace([np.inf, -np.inf], np.nan, inplace=True)\n",
        "df.dropna(inplace=True)\n",
        "\n",
        "# Preprocess the data\n",
        "X = df.drop(['created_at', 'entry_id'], axis=1).values\n",
        "y = df['TEMPERATURE'].values\n",
        "\n",
        "scaler = MinMaxScaler()\n",
        "X_scaled = scaler.fit_transform(X)\n",
        "\n",
        "# Split the data into training and testing sets\n",
        "X_train, X_test, y_train, y_test = train_test_split(X_scaled, y, test_size=0.2, random_state=42)\n",
        "\n",
        "# CNN Model\n",
        "cnn_model = Sequential()\n",
        "cnn_model.add(Conv1D(filters=64, kernel_size=3, activation='relu', input_shape=(X_train.shape[1], 1)))\n",
        "cnn_model.add(Dense(64, activation='relu'))\n",
        "cnn_model.add(Dense(1))\n",
        "cnn_model.compile(optimizer='adam', loss='mse', metrics=[MeanSquaredError()])\n",
        "cnn_model.fit(X_train.reshape(X_train.shape[0], X_train.shape[1], 1), y_train, epochs=10, batch_size=32)\n",
        "\n",
        "# Deep LSTM Model\n",
        "lstm_model = Sequential()\n",
        "lstm_model.add(LSTM(64, activation='relu', input_shape=(X_train.shape[1], 1), return_sequences=True))\n",
        "lstm_model.add(LSTM(32, activation='relu'))\n",
        "lstm_model.add(Dense(1))\n",
        "lstm_model.compile(optimizer='adam', loss='mse', metrics=[MeanSquaredError()])\n",
        "lstm_model.fit(X_train.reshape(X_train.shape[0], X_train.shape[1], 1), y_train, epochs=10, batch_size=32)\n",
        "\n",
        "# GRU Model\n",
        "gru_model = Sequential()\n",
        "gru_model.add(GRU(64, activation='relu', input_shape=(X_train.shape[1], 1), return_sequences=True))\n",
        "gru_model.add(GRU(32, activation='relu'))\n",
        "gru_model.add(Dense(1))\n",
        "gru_model.compile(optimizer='adam', loss='mse', metrics=[MeanSquaredError()])\n",
        "gru_model.fit(X_train.reshape(X_train.shape[0], X_train.shape[1], 1), y_train, epochs=10, batch_size=32)\n",
        "\n",
        "# Neural Network Model\n",
        "nn_model = Sequential()\n",
        "nn_model.add(Dense(64, activation='relu', input_shape=(X_train.shape[1],)))\n",
        "nn_model.add(Dense(32, activation='relu'))\n",
        "nn_model.add(Dense(1))\n",
        "nn_model.compile(optimizer='adam', loss='mse', metrics=[MeanSquaredError()])\n",
        "nn_model.fit(X_train, y_train, epochs=10, batch_size=32)\n",
        "\n",
        "# Evaluate the models\n",
        "cnn_loss = cnn_model.evaluate(X_test.reshape(X_test.shape[0], X_test.shape[1], 1), y_test)[0]\n",
        "lstm_loss = lstm_model.evaluate(X_test.reshape(X_test.shape[0], X_test.shape[1], 1), y_test)[0]\n",
        "gru_loss = gru_model.evaluate(X_test.reshape(X_test.shape[0], X_test.shape[1], 1), y_test)[0]\n",
        "nn_loss = nn_model.evaluate(X_test, y_test)[0]\n",
        "\n",
        "# Compare the performance\n",
        "losses = [cnn_loss, lstm_loss, gru_loss, nn_loss]\n",
        "models = ['CNN', 'Deep LSTM', 'GRU', 'Neural Network']\n",
        "ranked_models = sorted(zip(models, losses), key=lambda x: x[1])\n",
        "print(\"Ranking based on loss:\")\n",
        "for i, (model, loss) in enumerate(ranked_models):\n",
        "    print(f\"{i+1}. {model}: {loss}\")"
      ],
      "metadata": {
        "colab": {
          "base_uri": "https://localhost:8080/"
        },
        "id": "No2nThg5umvA",
        "outputId": "251046b9-a3f1-4b85-9c79-739c0d889e30"
      },
      "execution_count": 64,
      "outputs": [
        {
          "output_type": "stream",
          "name": "stdout",
          "text": [
            "Epoch 1/10\n",
            "16/16 [==============================] - 1s 4ms/step - loss: 1266.1171 - mean_squared_error: 1266.1169\n",
            "Epoch 2/10\n",
            "16/16 [==============================] - 0s 3ms/step - loss: 1248.3589 - mean_squared_error: 1248.3588\n",
            "Epoch 3/10\n",
            "16/16 [==============================] - 0s 3ms/step - loss: 1214.8909 - mean_squared_error: 1214.8909\n",
            "Epoch 4/10\n",
            "16/16 [==============================] - 0s 3ms/step - loss: 1154.2731 - mean_squared_error: 1154.2732\n",
            "Epoch 5/10\n",
            "16/16 [==============================] - 0s 3ms/step - loss: 1064.5332 - mean_squared_error: 1064.5333\n",
            "Epoch 6/10\n",
            "16/16 [==============================] - 0s 3ms/step - loss: 960.6018 - mean_squared_error: 960.6019\n",
            "Epoch 7/10\n",
            "16/16 [==============================] - 0s 5ms/step - loss: 883.5623 - mean_squared_error: 883.5623\n",
            "Epoch 8/10\n",
            "16/16 [==============================] - 0s 4ms/step - loss: 847.5778 - mean_squared_error: 847.5777\n",
            "Epoch 9/10\n",
            "16/16 [==============================] - 0s 3ms/step - loss: 839.6978 - mean_squared_error: 839.6978\n",
            "Epoch 10/10\n",
            "16/16 [==============================] - 0s 3ms/step - loss: 837.0137 - mean_squared_error: 837.0137\n",
            "Epoch 1/10\n",
            "16/16 [==============================] - 4s 13ms/step - loss: 1269.1997 - mean_squared_error: 1269.1997\n",
            "Epoch 2/10\n",
            "16/16 [==============================] - 0s 14ms/step - loss: 1254.0830 - mean_squared_error: 1254.0830\n",
            "Epoch 3/10\n",
            "16/16 [==============================] - 0s 14ms/step - loss: 1014.9039 - mean_squared_error: 1014.9039\n",
            "Epoch 4/10\n",
            "16/16 [==============================] - 0s 14ms/step - loss: 694.0978 - mean_squared_error: 694.0978\n",
            "Epoch 5/10\n",
            "16/16 [==============================] - 0s 14ms/step - loss: 679.0141 - mean_squared_error: 679.0141\n",
            "Epoch 6/10\n",
            "16/16 [==============================] - 0s 15ms/step - loss: 677.5203 - mean_squared_error: 677.5203\n",
            "Epoch 7/10\n",
            "16/16 [==============================] - 0s 13ms/step - loss: 666.8839 - mean_squared_error: 666.8839\n",
            "Epoch 8/10\n",
            "16/16 [==============================] - 0s 13ms/step - loss: 663.2502 - mean_squared_error: 663.2502\n",
            "Epoch 9/10\n",
            "16/16 [==============================] - 0s 14ms/step - loss: 658.8091 - mean_squared_error: 658.8091\n",
            "Epoch 10/10\n",
            "16/16 [==============================] - 0s 14ms/step - loss: 650.2674 - mean_squared_error: 650.2674\n",
            "Epoch 1/10\n",
            "16/16 [==============================] - 4s 13ms/step - loss: 1267.3126 - mean_squared_error: 1267.3126\n",
            "Epoch 2/10\n",
            "16/16 [==============================] - 0s 14ms/step - loss: 1241.9330 - mean_squared_error: 1241.9330\n",
            "Epoch 3/10\n",
            "16/16 [==============================] - 0s 14ms/step - loss: 1009.2334 - mean_squared_error: 1009.2334\n",
            "Epoch 4/10\n",
            "16/16 [==============================] - 0s 15ms/step - loss: 747.1652 - mean_squared_error: 747.1652\n",
            "Epoch 5/10\n",
            "16/16 [==============================] - 0s 13ms/step - loss: 718.0479 - mean_squared_error: 718.0479\n",
            "Epoch 6/10\n",
            "16/16 [==============================] - 0s 14ms/step - loss: 709.5291 - mean_squared_error: 709.5291\n",
            "Epoch 7/10\n",
            "16/16 [==============================] - 0s 13ms/step - loss: 704.0447 - mean_squared_error: 704.0447\n",
            "Epoch 8/10\n",
            "16/16 [==============================] - 0s 14ms/step - loss: 702.9042 - mean_squared_error: 702.9042\n",
            "Epoch 9/10\n",
            "16/16 [==============================] - 0s 14ms/step - loss: 691.6292 - mean_squared_error: 691.6292\n",
            "Epoch 10/10\n",
            "16/16 [==============================] - 0s 23ms/step - loss: 694.0347 - mean_squared_error: 694.0347\n",
            "Epoch 1/10\n",
            "16/16 [==============================] - 1s 5ms/step - loss: 1240.1854 - mean_squared_error: 1240.1854\n",
            "Epoch 2/10\n",
            "16/16 [==============================] - 0s 5ms/step - loss: 1198.5487 - mean_squared_error: 1198.5487\n",
            "Epoch 3/10\n",
            "16/16 [==============================] - 0s 6ms/step - loss: 1138.0333 - mean_squared_error: 1138.0333\n",
            "Epoch 4/10\n",
            "16/16 [==============================] - 0s 5ms/step - loss: 1050.1396 - mean_squared_error: 1050.1396\n",
            "Epoch 5/10\n",
            "16/16 [==============================] - 0s 5ms/step - loss: 931.8939 - mean_squared_error: 931.8939\n",
            "Epoch 6/10\n",
            "16/16 [==============================] - 0s 5ms/step - loss: 808.7328 - mean_squared_error: 808.7328\n",
            "Epoch 7/10\n",
            "16/16 [==============================] - 0s 6ms/step - loss: 726.5165 - mean_squared_error: 726.5165\n",
            "Epoch 8/10\n",
            "16/16 [==============================] - 0s 5ms/step - loss: 697.9913 - mean_squared_error: 697.9913\n",
            "Epoch 9/10\n",
            "16/16 [==============================] - 0s 5ms/step - loss: 686.1479 - mean_squared_error: 686.1479\n",
            "Epoch 10/10\n",
            "16/16 [==============================] - 0s 5ms/step - loss: 672.9000 - mean_squared_error: 672.9000\n",
            "4/4 [==============================] - 0s 6ms/step - loss: 607.8862 - mean_squared_error: 607.8862\n",
            "4/4 [==============================] - 0s 8ms/step - loss: 499.7313 - mean_squared_error: 499.7313\n",
            "4/4 [==============================] - 0s 8ms/step - loss: 530.8815 - mean_squared_error: 530.8815\n",
            "4/4 [==============================] - 0s 5ms/step - loss: 518.0610 - mean_squared_error: 518.0610\n",
            "Ranking based on loss:\n",
            "1. Deep LSTM: 499.7312927246094\n",
            "2. Neural Network: 518.06103515625\n",
            "3. GRU: 530.8815307617188\n",
            "4. CNN: 607.88623046875\n"
          ]
        }
      ]
    },
    {
      "cell_type": "markdown",
      "source": [
        "## Long-Short-Term Memory Networks and RNNs"
      ],
      "metadata": {
        "id": "b4LI5Lehcxno"
      }
    },
    {
      "cell_type": "code",
      "source": [],
      "metadata": {
        "id": "su86aQgFkObx"
      },
      "execution_count": null,
      "outputs": []
    },
    {
      "cell_type": "markdown",
      "source": [
        "#### In this code, we first load the dataset from the CSV file and select the relevant features and target variable. We then split the data into training and testing sets.\n",
        "\n",
        "#### Next, we normalize the features using Min-Max scaling and reshape the input data to be suitable for the LSTM model.\n",
        "\n",
        "#### The LSTM model is defined with two LSTM layers and a dense output layer. We compile the model using the mean squared error loss function and the Adam optimizer, and then train the model on the training data.\n",
        "\n",
        "#### Finally, we evaluate the model on the testing data and print the mean squared error.\n",
        "\n",
        "#### Please note that this is a basic example, and you may need to further optimize the model architecture and hyperparameters based on your specific requirements."
      ],
      "metadata": {
        "id": "xuXj7I4sbhA7"
      }
    },
    {
      "cell_type": "code",
      "source": [
        "import pandas as pd\n",
        "import numpy as np\n",
        "from sklearn.model_selection import train_test_split\n",
        "from sklearn.preprocessing import MinMaxScaler\n",
        "from keras.models import Sequential\n",
        "from keras.layers import LSTM, Dense"
      ],
      "metadata": {
        "id": "n_pOQdrtdaXL"
      },
      "execution_count": 12,
      "outputs": []
    },
    {
      "cell_type": "code",
      "source": [
        "\n",
        "\n",
        "import pandas as pd\n",
        "import numpy as np\n",
        "from sklearn.model_selection import train_test_split\n",
        "from sklearn.preprocessing import MinMaxScaler\n",
        "from keras.models import Sequential\n",
        "from keras.layers import LSTM, Dense\n",
        "\n",
        "# Load the dataset\n",
        "dataset = pd.read_csv(\"/content/IoTPond10.csv\")\n",
        "\n",
        "# Select the relevant features for the LSTM model\n",
        "features = dataset[['TEMPERATURE', 'TURBIDITY', 'DISOLVED OXYGEN', 'pH', 'AMMONIA', 'NITRATE']]\n",
        "target = dataset['Population']\n",
        "\n",
        "# Replace any infinite or very large values with NaN\n",
        "features = features.replace([np.inf, np.nan, np.NINF, np.PINF], np.nan)\n",
        "\n",
        "# Drop any rows with NaN values\n",
        "features = features.dropna()\n",
        "target = target.iloc[features.index]\n",
        "\n",
        "# Split the dataset into training and testing sets\n",
        "X_train, X_test, y_train, y_test = train_test_split(features, target, test_size=0.2, random_state=42)\n",
        "\n",
        "# Normalize the features using Min-Max scaling\n",
        "scaler = MinMaxScaler()\n",
        "X_train_scaled = scaler.fit_transform(X_train)\n",
        "X_test_scaled = scaler.transform(X_test)\n",
        "\n",
        "# Reshape the input data to be 3-dimensional for LSTM\n",
        "X_train_reshaped = np.reshape(X_train_scaled, (X_train_scaled.shape[0], 1, X_train_scaled.shape[1]))\n",
        "X_test_reshaped = np.reshape(X_test_scaled, (X_test_scaled.shape[0], 1, X_test_scaled.shape[1]))\n",
        "\n",
        "# Build the LSTM model\n",
        "model = Sequential()\n",
        "model.add(LSTM(64, input_shape=(X_train_reshaped.shape[1], X_train_reshaped.shape[2]), return_sequences=True))\n",
        "model.add(LSTM(64))\n",
        "model.add(Dense(1))\n",
        "\n",
        "# Compile and train the model\n",
        "model.compile(loss='mean_squared_error', optimizer='adam')\n",
        "model.fit(X_train_reshaped, y_train, epochs=50, batch_size=32, verbose=1)\n",
        "\n",
        "# Evaluate the model\n",
        "score = model.evaluate(X_test_reshaped, y_test, verbose=0)\n",
        "print(\"The Mean Squared Error is :\", score)"
      ],
      "metadata": {
        "colab": {
          "base_uri": "https://localhost:8080/"
        },
        "id": "zvZaGaEGbxlB",
        "outputId": "7b808aea-03fc-4159-b0ce-1c753c50329c"
      },
      "execution_count": 15,
      "outputs": [
        {
          "output_type": "stream",
          "name": "stdout",
          "text": [
            "Epoch 1/50\n",
            "16/16 [==============================] - 5s 6ms/step - loss: 2492.9468\n",
            "Epoch 2/50\n",
            "16/16 [==============================] - 0s 6ms/step - loss: 2470.7014\n",
            "Epoch 3/50\n",
            "16/16 [==============================] - 0s 6ms/step - loss: 2420.6470\n",
            "Epoch 4/50\n",
            "16/16 [==============================] - 0s 6ms/step - loss: 2307.1758\n",
            "Epoch 5/50\n",
            "16/16 [==============================] - 0s 8ms/step - loss: 2093.9575\n",
            "Epoch 6/50\n",
            "16/16 [==============================] - 0s 7ms/step - loss: 1810.9625\n",
            "Epoch 7/50\n",
            "16/16 [==============================] - 0s 7ms/step - loss: 1546.6146\n",
            "Epoch 8/50\n",
            "16/16 [==============================] - 0s 6ms/step - loss: 1346.0405\n",
            "Epoch 9/50\n",
            "16/16 [==============================] - 0s 6ms/step - loss: 1200.8163\n",
            "Epoch 10/50\n",
            "16/16 [==============================] - 0s 7ms/step - loss: 1090.8025\n",
            "Epoch 11/50\n",
            "16/16 [==============================] - 0s 6ms/step - loss: 1002.0924\n",
            "Epoch 12/50\n",
            "16/16 [==============================] - 0s 7ms/step - loss: 926.9474\n",
            "Epoch 13/50\n",
            "16/16 [==============================] - 0s 12ms/step - loss: 861.0747\n",
            "Epoch 14/50\n",
            "16/16 [==============================] - 0s 10ms/step - loss: 802.0195\n",
            "Epoch 15/50\n",
            "16/16 [==============================] - 0s 10ms/step - loss: 748.1866\n",
            "Epoch 16/50\n",
            "16/16 [==============================] - 0s 9ms/step - loss: 698.7851\n",
            "Epoch 17/50\n",
            "16/16 [==============================] - 0s 10ms/step - loss: 653.1130\n",
            "Epoch 18/50\n",
            "16/16 [==============================] - 0s 9ms/step - loss: 610.6346\n",
            "Epoch 19/50\n",
            "16/16 [==============================] - 0s 9ms/step - loss: 571.0911\n",
            "Epoch 20/50\n",
            "16/16 [==============================] - 0s 11ms/step - loss: 533.9863\n",
            "Epoch 21/50\n",
            "16/16 [==============================] - 0s 10ms/step - loss: 499.3488\n",
            "Epoch 22/50\n",
            "16/16 [==============================] - 0s 10ms/step - loss: 466.8632\n",
            "Epoch 23/50\n",
            "16/16 [==============================] - 0s 11ms/step - loss: 436.3016\n",
            "Epoch 24/50\n",
            "16/16 [==============================] - 0s 10ms/step - loss: 407.5340\n",
            "Epoch 25/50\n",
            "16/16 [==============================] - 0s 10ms/step - loss: 380.4484\n",
            "Epoch 26/50\n",
            "16/16 [==============================] - 0s 11ms/step - loss: 355.0672\n",
            "Epoch 27/50\n",
            "16/16 [==============================] - 0s 10ms/step - loss: 331.1476\n",
            "Epoch 28/50\n",
            "16/16 [==============================] - 0s 11ms/step - loss: 308.6467\n",
            "Epoch 29/50\n",
            "16/16 [==============================] - 0s 10ms/step - loss: 287.5143\n",
            "Epoch 30/50\n",
            "16/16 [==============================] - 0s 9ms/step - loss: 267.5792\n",
            "Epoch 31/50\n",
            "16/16 [==============================] - 0s 9ms/step - loss: 248.9019\n",
            "Epoch 32/50\n",
            "16/16 [==============================] - 0s 12ms/step - loss: 231.2786\n",
            "Epoch 33/50\n",
            "16/16 [==============================] - 0s 9ms/step - loss: 214.7951\n",
            "Epoch 34/50\n",
            "16/16 [==============================] - 0s 11ms/step - loss: 199.2615\n",
            "Epoch 35/50\n",
            "16/16 [==============================] - 0s 12ms/step - loss: 184.7204\n",
            "Epoch 36/50\n",
            "16/16 [==============================] - 0s 6ms/step - loss: 171.0598\n",
            "Epoch 37/50\n",
            "16/16 [==============================] - 0s 7ms/step - loss: 158.3369\n",
            "Epoch 38/50\n",
            "16/16 [==============================] - 0s 8ms/step - loss: 146.3398\n",
            "Epoch 39/50\n",
            "16/16 [==============================] - 0s 9ms/step - loss: 135.2105\n",
            "Epoch 40/50\n",
            "16/16 [==============================] - 0s 6ms/step - loss: 124.7976\n",
            "Epoch 41/50\n",
            "16/16 [==============================] - 0s 7ms/step - loss: 115.0623\n",
            "Epoch 42/50\n",
            "16/16 [==============================] - 0s 6ms/step - loss: 106.0180\n",
            "Epoch 43/50\n",
            "16/16 [==============================] - 0s 6ms/step - loss: 97.5689\n",
            "Epoch 44/50\n",
            "16/16 [==============================] - 0s 6ms/step - loss: 89.6875\n",
            "Epoch 45/50\n",
            "16/16 [==============================] - 0s 7ms/step - loss: 82.3543\n",
            "Epoch 46/50\n",
            "16/16 [==============================] - 0s 7ms/step - loss: 75.5556\n",
            "Epoch 47/50\n",
            "16/16 [==============================] - 0s 7ms/step - loss: 69.2617\n",
            "Epoch 48/50\n",
            "16/16 [==============================] - 0s 8ms/step - loss: 63.4112\n",
            "Epoch 49/50\n",
            "16/16 [==============================] - 0s 6ms/step - loss: 58.0209\n",
            "Epoch 50/50\n",
            "16/16 [==============================] - 0s 7ms/step - loss: 52.9973\n",
            "The Mean Squared Error is : 47.69195556640625\n"
          ]
        }
      ]
    },
    {
      "cell_type": "markdown",
      "source": [
        "# Import libraries and Load the dataset"
      ],
      "metadata": {
        "id": "4RcPFHwm7e_z"
      }
    },
    {
      "cell_type": "code",
      "source": [
        "import pandas as pd\n",
        "import matplotlib.pyplot as plt\n",
        "import numpy as np\n",
        "from sklearn.model_selection import train_test_split\n",
        "from sklearn.preprocessing import MinMaxScaler\n",
        "from keras.models import Sequential\n",
        "from keras.layers import Dense, Conv1D, LSTM, GRU\n",
        "from keras.metrics import MeanSquaredError\n",
        "\n",
        "# Load the dataset\n",
        "df = pd.read_csv('/content/IoTPond10.csv')\n",
        "\n"
      ],
      "metadata": {
        "id": "7-mPDix0byVx"
      },
      "execution_count": 74,
      "outputs": []
    },
    {
      "cell_type": "markdown",
      "source": [
        "# Data Prepocessing"
      ],
      "metadata": {
        "id": "CVvUlokf76b-"
      }
    },
    {
      "cell_type": "code",
      "source": [
        "# Remove infinite or large values\n",
        "df.replace([np.inf, -np.inf], np.nan, inplace=True)\n",
        "df.dropna(inplace=True)\n",
        "\n",
        "# Preprocess the data\n",
        "X = df.drop(['created_at', 'entry_id'], axis=1).values\n",
        "y = df['TEMPERATURE'].values\n",
        "\n"
      ],
      "metadata": {
        "id": "Ix0qozKN75ny"
      },
      "execution_count": 75,
      "outputs": []
    },
    {
      "cell_type": "markdown",
      "source": [
        "# Scale and Splite data into train and test"
      ],
      "metadata": {
        "id": "rIAFhgnr8KbH"
      }
    },
    {
      "cell_type": "code",
      "source": [
        "scaler = MinMaxScaler()\n",
        "X_scaled = scaler.fit_transform(X)\n",
        "\n",
        "# Split the data into training and testing sets\n",
        "X_train, X_test, y_train, y_test = train_test_split(X_scaled, y, test_size=0.2, random_state=42)\n",
        "\n"
      ],
      "metadata": {
        "id": "IXyNCToo74GT"
      },
      "execution_count": 76,
      "outputs": []
    },
    {
      "cell_type": "markdown",
      "source": [
        "# Machine Learning Models\n",
        "## Current Neural Network (CNN),  \n",
        "## Deep LSTM Model ,\n",
        "## GRU Model, and\n",
        "## Neural Network Model\n"
      ],
      "metadata": {
        "id": "LnzAI8OV8Z9F"
      }
    },
    {
      "cell_type": "code",
      "source": [
        "# CNN Model\n",
        "cnn_model = Sequential()\n",
        "cnn_model.add(Conv1D(filters=64, kernel_size=3, activation='relu', input_shape=(X_train.shape[1], 1)))\n",
        "cnn_model.add(Dense(64, activation='relu'))\n",
        "cnn_model.add(Dense(1))\n",
        "cnn_model.compile(optimizer='adam', loss='mse', metrics=[MeanSquaredError()])\n",
        "cnn_history = cnn_model.fit(X_train.reshape(X_train.shape[0], X_train.shape[1], 1), y_train, epochs=10, batch_size=32)\n",
        "\n",
        "# Deep LSTM Model\n",
        "lstm_model = Sequential()\n",
        "lstm_model.add(LSTM(64, activation='relu', input_shape=(X_train.shape[1], 1), return_sequences=True))\n",
        "lstm_model.add(LSTM(32, activation='relu'))\n",
        "lstm_model.add(Dense(1))\n",
        "lstm_model.compile(optimizer='adam', loss='mse', metrics=[MeanSquaredError()])\n",
        "lstm_history = lstm_model.fit(X_train.reshape(X_train.shape[0], X_train.shape[1], 1), y_train, epochs=10, batch_size=32)\n",
        "\n",
        "# GRU Model\n",
        "gru_model = Sequential()\n",
        "gru_model.add(GRU(64, activation='relu', input_shape=(X_train.shape[1], 1), return_sequences=True))\n",
        "gru_model.add(GRU(32, activation='relu'))\n",
        "gru_model.add(Dense(1))\n",
        "gru_model.compile(optimizer='adam', loss='mse', metrics=[MeanSquaredError()])\n",
        "gru_history = gru_model.fit(X_train.reshape(X_train.shape[0], X_train.shape[1], 1), y_train, epochs=10, batch_size=32)\n",
        "\n",
        "# Neural Network Model\n",
        "nn_model = Sequential()\n",
        "nn_model.add(Dense(64, activation='relu', input_shape=(X_train.shape[1],)))\n",
        "nn_model.add(Dense(32, activation='relu'))\n",
        "nn_model.add(Dense(1))\n",
        "nn_model.compile(optimizer='adam', loss='mse', metrics=[MeanSquaredError()])\n",
        "nn_history = nn_model.fit(X_train, y_train, epochs=10, batch_size=32)\n",
        "\n"
      ],
      "metadata": {
        "colab": {
          "base_uri": "https://localhost:8080/"
        },
        "id": "YnKLkb7C74C0",
        "outputId": "65d4a8d9-3f21-4617-b799-5ec005718360"
      },
      "execution_count": 77,
      "outputs": [
        {
          "output_type": "stream",
          "name": "stdout",
          "text": [
            "Epoch 1/10\n",
            "16/16 [==============================] - 1s 3ms/step - loss: 1266.5459 - mean_squared_error: 1266.5457\n",
            "Epoch 2/10\n",
            "16/16 [==============================] - 0s 3ms/step - loss: 1249.9004 - mean_squared_error: 1249.9005\n",
            "Epoch 3/10\n",
            "16/16 [==============================] - 0s 3ms/step - loss: 1217.1171 - mean_squared_error: 1217.1171\n",
            "Epoch 4/10\n",
            "16/16 [==============================] - 0s 4ms/step - loss: 1160.4528 - mean_squared_error: 1160.4528\n",
            "Epoch 5/10\n",
            "16/16 [==============================] - 0s 3ms/step - loss: 1071.6943 - mean_squared_error: 1071.6945\n",
            "Epoch 6/10\n",
            "16/16 [==============================] - 0s 3ms/step - loss: 974.3735 - mean_squared_error: 974.3735\n",
            "Epoch 7/10\n",
            "16/16 [==============================] - 0s 3ms/step - loss: 886.9922 - mean_squared_error: 886.9922\n",
            "Epoch 8/10\n",
            "16/16 [==============================] - 0s 3ms/step - loss: 851.0606 - mean_squared_error: 851.0606\n",
            "Epoch 9/10\n",
            "16/16 [==============================] - 0s 3ms/step - loss: 841.3316 - mean_squared_error: 841.3315\n",
            "Epoch 10/10\n",
            "16/16 [==============================] - 0s 3ms/step - loss: 836.9463 - mean_squared_error: 836.9463\n",
            "Epoch 1/10\n",
            "16/16 [==============================] - 3s 18ms/step - loss: 1270.5294 - mean_squared_error: 1270.5294\n",
            "Epoch 2/10\n",
            "16/16 [==============================] - 0s 19ms/step - loss: 1259.6721 - mean_squared_error: 1259.6721\n",
            "Epoch 3/10\n",
            "16/16 [==============================] - 0s 18ms/step - loss: 1002.1565 - mean_squared_error: 1002.1565\n",
            "Epoch 4/10\n",
            "16/16 [==============================] - 0s 19ms/step - loss: 703.5967 - mean_squared_error: 703.5967\n",
            "Epoch 5/10\n",
            "16/16 [==============================] - 0s 20ms/step - loss: 675.5485 - mean_squared_error: 675.5485\n",
            "Epoch 6/10\n",
            "16/16 [==============================] - 0s 14ms/step - loss: 677.5030 - mean_squared_error: 677.5030\n",
            "Epoch 7/10\n",
            "16/16 [==============================] - 0s 12ms/step - loss: 669.0599 - mean_squared_error: 669.0599\n",
            "Epoch 8/10\n",
            "16/16 [==============================] - 0s 12ms/step - loss: 668.8042 - mean_squared_error: 668.8042\n",
            "Epoch 9/10\n",
            "16/16 [==============================] - 0s 12ms/step - loss: 663.2732 - mean_squared_error: 663.2732\n",
            "Epoch 10/10\n",
            "16/16 [==============================] - 0s 12ms/step - loss: 651.0792 - mean_squared_error: 651.0792\n",
            "Epoch 1/10\n",
            "16/16 [==============================] - 3s 11ms/step - loss: 1267.0587 - mean_squared_error: 1267.0587\n",
            "Epoch 2/10\n",
            "16/16 [==============================] - 0s 12ms/step - loss: 1247.8274 - mean_squared_error: 1247.8274\n",
            "Epoch 3/10\n",
            "16/16 [==============================] - 0s 13ms/step - loss: 1106.3307 - mean_squared_error: 1106.3307\n",
            "Epoch 4/10\n",
            "16/16 [==============================] - 0s 12ms/step - loss: 740.9741 - mean_squared_error: 740.9741\n",
            "Epoch 5/10\n",
            "16/16 [==============================] - 0s 13ms/step - loss: 720.2065 - mean_squared_error: 720.2065\n",
            "Epoch 6/10\n",
            "16/16 [==============================] - 0s 12ms/step - loss: 707.9997 - mean_squared_error: 707.9997\n",
            "Epoch 7/10\n",
            "16/16 [==============================] - 0s 12ms/step - loss: 708.4955 - mean_squared_error: 708.4955\n",
            "Epoch 8/10\n",
            "16/16 [==============================] - 0s 12ms/step - loss: 701.5474 - mean_squared_error: 701.5474\n",
            "Epoch 9/10\n",
            "16/16 [==============================] - 0s 12ms/step - loss: 701.9586 - mean_squared_error: 701.9586\n",
            "Epoch 10/10\n",
            "16/16 [==============================] - 0s 13ms/step - loss: 689.9655 - mean_squared_error: 689.9655\n",
            "Epoch 1/10\n",
            "16/16 [==============================] - 1s 3ms/step - loss: 1244.5948 - mean_squared_error: 1244.5948\n",
            "Epoch 2/10\n",
            "16/16 [==============================] - 0s 3ms/step - loss: 1207.2642 - mean_squared_error: 1207.2642\n",
            "Epoch 3/10\n",
            "16/16 [==============================] - 0s 5ms/step - loss: 1153.5464 - mean_squared_error: 1153.5464\n",
            "Epoch 4/10\n",
            "16/16 [==============================] - 0s 5ms/step - loss: 1077.8447 - mean_squared_error: 1077.8447\n",
            "Epoch 5/10\n",
            "16/16 [==============================] - 0s 4ms/step - loss: 976.0447 - mean_squared_error: 976.0447\n",
            "Epoch 6/10\n",
            "16/16 [==============================] - 0s 4ms/step - loss: 862.6799 - mean_squared_error: 862.6799\n",
            "Epoch 7/10\n",
            "16/16 [==============================] - 0s 5ms/step - loss: 764.3323 - mean_squared_error: 764.3323\n",
            "Epoch 8/10\n",
            "16/16 [==============================] - 0s 4ms/step - loss: 707.8369 - mean_squared_error: 707.8369\n",
            "Epoch 9/10\n",
            "16/16 [==============================] - 0s 3ms/step - loss: 682.8413 - mean_squared_error: 682.8413\n",
            "Epoch 10/10\n",
            "16/16 [==============================] - 0s 3ms/step - loss: 663.8480 - mean_squared_error: 663.8480\n"
          ]
        }
      ]
    },
    {
      "cell_type": "markdown",
      "source": [
        "# Evaluate Performance Of All The Models"
      ],
      "metadata": {
        "id": "Agxt7JDN9rtn"
      }
    },
    {
      "cell_type": "code",
      "source": [
        "# Evaluate the models\n",
        "cnn_loss = cnn_model.evaluate(X_test.reshape(X_test.shape[0], X_test.shape[1], 1), y_test)[0]\n",
        "lstm_loss = lstm_model.evaluate(X_test.reshape(X_test.shape[0], X_test.shape[1], 1), y_test)[0]\n",
        "gru_loss = gru_model.evaluate(X_test.reshape(X_test.shape[0], X_test.shape[1], 1), y_test)[0]\n",
        "nn_loss = nn_model.evaluate(X_test, y_test)[0]\n",
        "\n",
        "# Compare the performance\n",
        "losses = [cnn_loss, lstm_loss, gru_loss, nn_loss]\n",
        "models = ['CNN', 'Deep LSTM', 'GRU', 'Neural Network']\n",
        "\n",
        "# Create a list of loss values for each model\n",
        "model_losses = [cnn_history.history['loss'], lstm_history.history['loss'], gru_history.history['loss'], nn_history.history['loss']]\n",
        "\n"
      ],
      "metadata": {
        "id": "ysmCwnzp73-2"
      },
      "execution_count": null,
      "outputs": []
    },
    {
      "cell_type": "markdown",
      "source": [
        "# Visualize Performance of the Models"
      ],
      "metadata": {
        "id": "ivPUV_OS99V2"
      }
    },
    {
      "cell_type": "markdown",
      "source": [
        "#### Based on the outcome of the models, we can evaluate their performance and determine the best performing model. Let's briefly discuss the performance of each model:\n",
        "\n",
        "##### CNN Model: The Convolutional Neural Network (CNN) model achieved a certain level of accuracy in predicting the target variable. However, compared to the other models, it did not perform as well. Its loss value was relatively higher, indicating that it had more difficulty in accurately predicting the target variable.\n",
        "##### Deep LSTM Model: The Long Short-Term Memory (LSTM) model performed better than the CNN model. It showed improved accuracy and lower loss values, suggesting that it was able to capture the underlying patterns in the data more effectively.\n",
        "##### GRU Model: The Gated Recurrent Unit (GRU) model also demonstrated good performance. It had similar accuracy and loss values to the LSTM model, indicating that it was able to capture the temporal dependencies in the data and make accurate predictions.\n",
        "##### Neural Network Model: The simple Neural Network model, without any recurrent or convolutional layers, achieved reasonable performance. While it didn't outperform the LSTM and GRU models, it still showed decent accuracy and lower loss values.\n",
        "### Based on the overall performance, the best model among the options appears to be the Deep LSTM model. It exhibited the lowest loss values and higher accuracy compared to the other models. However, it's important to note that the best model may vary depending on the specific dataset and problem at hand. It's always recommended to evaluate multiple models and choose the one that performs best for your specific scenario."
      ],
      "metadata": {
        "id": "EQ09sm3G-xx0"
      }
    },
    {
      "cell_type": "code",
      "source": [
        "# Visualize the performance using a box plot\n",
        "box_props = dict(facecolor='blue', color='black')\n",
        "plt.boxplot(model_losses, patch_artist=True, boxprops=box_props)\n",
        "plt.xticks(range(1, len(models) + 1), models)\n",
        "plt.xlabel('Models')\n",
        "plt.ylabel('Loss')\n",
        "plt.title('Comparison of Model Performance')\n",
        "plt.show()"
      ],
      "metadata": {
        "colab": {
          "base_uri": "https://localhost:8080/",
          "height": 472
        },
        "id": "vI1mQJiE7363",
        "outputId": "158fa18c-80a8-4ad6-8f5c-d87e7a51e036"
      },
      "execution_count": 78,
      "outputs": [
        {
          "output_type": "display_data",
          "data": {
            "text/plain": [
              "<Figure size 640x480 with 1 Axes>"
            ],
            "image/png": "[encoded data removed]"
          },
          "metadata": {}
        }
      ]
    },
    {
      "cell_type": "code",
      "source": [
        "import pandas as pd\n",
        "import matplotlib.pyplot as plt\n",
        "import numpy as np\n",
        "from sklearn.model_selection import train_test_split\n",
        "from sklearn.preprocessing import MinMaxScaler\n",
        "from keras.models import Sequential\n",
        "from keras.layers import Dense, Conv1D, LSTM, GRU\n",
        "from keras.metrics import MeanSquaredError\n",
        "\n",
        "# Load the dataset\n",
        "df = pd.read_csv('IoTPond10.csv')\n",
        "\n",
        "# Remove infinite or large values\n",
        "df.replace([np.inf, -np.inf], np.nan, inplace=True)\n",
        "df.dropna(inplace=True)\n",
        "\n",
        "# Preprocess the data\n",
        "X = df.drop(['created_at', 'entry_id'], axis=1).values\n",
        "y = df['TEMPERATURE'].values\n",
        "\n",
        "scaler = MinMaxScaler()\n",
        "X_scaled = scaler.fit_transform(X)\n",
        "\n",
        "# Split the data into training and testing sets\n",
        "X_train, X_test, y_train, y_test = train_test_split(X_scaled, y, test_size=0.2, random_state=42)\n",
        "\n",
        "# CNN Model\n",
        "cnn_model = Sequential()\n",
        "cnn_model.add(Conv1D(filters=64, kernel_size=3, activation='relu', input_shape=(X_train.shape[1], 1)))\n",
        "cnn_model.add(Dense(64, activation='relu'))\n",
        "cnn_model.add(Dense(1))\n",
        "cnn_model.compile(optimizer='adam', loss='mse', metrics=[MeanSquaredError()])\n",
        "cnn_history = cnn_model.fit(X_train.reshape(X_train.shape[0], X_train.shape[1], 1), y_train, epochs=10, batch_size=32)\n",
        "\n",
        "# Deep LSTM Model\n",
        "lstm_model = Sequential()\n",
        "lstm_model.add(LSTM(64, activation='relu', input_shape=(X_train.shape[1], 1), return_sequences=True))\n",
        "lstm_model.add(LSTM(32, activation='relu'))\n",
        "lstm_model.add(Dense(1))\n",
        "lstm_model.compile(optimizer='adam', loss='mse', metrics=[MeanSquaredError()])\n",
        "lstm_history = lstm_model.fit(X_train.reshape(X_train.shape[0], X_train.shape[1], 1), y_train, epochs=10, batch_size=32)\n",
        "\n",
        "# GRU Model\n",
        "gru_model = Sequential()\n",
        "gru_model.add(GRU(64, activation='relu', input_shape=(X_train.shape[1], 1), return_sequences=True))\n",
        "gru_model.add(GRU(32, activation='relu'))\n",
        "gru_model.add(Dense(1))\n",
        "gru_model.compile(optimizer='adam', loss='mse', metrics=[MeanSquaredError()])\n",
        "gru_history = gru_model.fit(X_train.reshape(X_train.shape[0], X_train.shape[1], 1), y_train, epochs=10, batch_size=32)\n",
        "\n",
        "# Neural Network Model\n",
        "nn_model = Sequential()\n",
        "nn_model.add(Dense(64, activation='relu', input_shape=(X_train.shape[1],)))\n",
        "nn_model.add(Dense(32, activation='relu'))\n",
        "nn_model.add(Dense(1))\n",
        "nn_model.compile(optimizer='adam', loss='mse', metrics=[MeanSquaredError()])\n",
        "nn_history = nn_model.fit(X_train, y_train, epochs=10, batch_size=32)\n",
        "\n",
        "# Evaluate the models\n",
        "cnn_loss = cnn_model.evaluate(X_test.reshape(X_test.shape[0], X_test.shape[1], 1), y_test)[0]\n",
        "lstm_loss = lstm_model.evaluate(X_test.reshape(X_test.shape[0], X_test.shape[1], 1), y_test)[0]\n",
        "gru_loss = gru_model.evaluate(X_test.reshape(X_test.shape[0], X_test.shape[1], 1), y_test)[0]\n",
        "nn_loss = nn_model.evaluate(X_test, y_test)[0]\n",
        "\n",
        "# Compare the performance\n",
        "losses = [cnn_loss, lstm_loss, gru_loss, nn_loss]\n",
        "models = ['CNN', 'Deep LSTM', 'GRU', 'Neural Network']\n",
        "ranked_models = sorted(zip(models, losses), key=lambda x: x[1])\n",
        "\n",
        "# Visualize the performance\n",
        "colors = ['blue', 'green', 'orange', 'red']  # Specify custom colors\n",
        "plt.bar(models, losses, color=colors)\n",
        "plt.xlabel('Models')\n",
        "plt.ylabel('Loss')\n",
        "plt.title('Comparison of Model Performance')\n",
        "plt.show()"
      ],
      "metadata": {
        "colab": {
          "base_uri": "https://localhost:8080/",
          "height": 1000
        },
        "id": "NhUMDa585rxK",
        "outputId": "84ca01ad-83be-4c9b-e121-3cf9659df01d"
      },
      "execution_count": 70,
      "outputs": [
        {
          "output_type": "stream",
          "name": "stdout",
          "text": [
            "Epoch 1/10\n",
            "16/16 [==============================] - 1s 3ms/step - loss: 1270.9087 - mean_squared_error: 1270.9088\n",
            "Epoch 2/10\n",
            "16/16 [==============================] - 0s 3ms/step - loss: 1258.2828 - mean_squared_error: 1258.2825\n",
            "Epoch 3/10\n",
            "16/16 [==============================] - 0s 3ms/step - loss: 1234.0043 - mean_squared_error: 1234.0043\n",
            "Epoch 4/10\n",
            "16/16 [==============================] - 0s 3ms/step - loss: 1186.7958 - mean_squared_error: 1186.7957\n",
            "Epoch 5/10\n",
            "16/16 [==============================] - 0s 3ms/step - loss: 1108.1206 - mean_squared_error: 1108.1207\n",
            "Epoch 6/10\n",
            "16/16 [==============================] - 0s 3ms/step - loss: 1003.0593 - mean_squared_error: 1003.0592\n",
            "Epoch 7/10\n",
            "16/16 [==============================] - 0s 3ms/step - loss: 907.7633 - mean_squared_error: 907.7633\n",
            "Epoch 8/10\n",
            "16/16 [==============================] - 0s 3ms/step - loss: 861.8797 - mean_squared_error: 861.8797\n",
            "Epoch 9/10\n",
            "16/16 [==============================] - 0s 3ms/step - loss: 849.4496 - mean_squared_error: 849.4494\n",
            "Epoch 10/10\n",
            "16/16 [==============================] - 0s 3ms/step - loss: 843.1703 - mean_squared_error: 843.1703\n",
            "Epoch 1/10\n",
            "16/16 [==============================] - 4s 15ms/step - loss: 1271.2859 - mean_squared_error: 1271.2859\n",
            "Epoch 2/10\n",
            "16/16 [==============================] - 0s 13ms/step - loss: 1265.9395 - mean_squared_error: 1265.9395\n",
            "Epoch 3/10\n",
            "16/16 [==============================] - 0s 14ms/step - loss: 1175.2546 - mean_squared_error: 1175.2546\n",
            "Epoch 4/10\n",
            "16/16 [==============================] - 0s 13ms/step - loss: 716.7568 - mean_squared_error: 716.7568\n",
            "Epoch 5/10\n",
            "16/16 [==============================] - 0s 13ms/step - loss: 684.5466 - mean_squared_error: 684.5466\n",
            "Epoch 6/10\n",
            "16/16 [==============================] - 0s 13ms/step - loss: 670.7284 - mean_squared_error: 670.7284\n",
            "Epoch 7/10\n",
            "16/16 [==============================] - 0s 13ms/step - loss: 665.4650 - mean_squared_error: 665.4650\n",
            "Epoch 8/10\n",
            "16/16 [==============================] - 0s 13ms/step - loss: 659.9573 - mean_squared_error: 659.9573\n",
            "Epoch 9/10\n",
            "16/16 [==============================] - 0s 13ms/step - loss: 651.8356 - mean_squared_error: 651.8356\n",
            "Epoch 10/10\n",
            "16/16 [==============================] - 0s 13ms/step - loss: 642.1378 - mean_squared_error: 642.1378\n",
            "Epoch 1/10\n",
            "16/16 [==============================] - 4s 18ms/step - loss: 1266.7745 - mean_squared_error: 1266.7745\n",
            "Epoch 2/10\n",
            "16/16 [==============================] - 0s 19ms/step - loss: 1239.4531 - mean_squared_error: 1239.4531\n",
            "Epoch 3/10\n",
            "16/16 [==============================] - 0s 19ms/step - loss: 999.1488 - mean_squared_error: 999.1488\n",
            "Epoch 4/10\n",
            "16/16 [==============================] - 0s 20ms/step - loss: 729.2374 - mean_squared_error: 729.2374\n",
            "Epoch 5/10\n",
            "16/16 [==============================] - 0s 20ms/step - loss: 717.4513 - mean_squared_error: 717.4513\n",
            "Epoch 6/10\n",
            "16/16 [==============================] - 0s 19ms/step - loss: 724.8546 - mean_squared_error: 724.8546\n",
            "Epoch 7/10\n",
            "16/16 [==============================] - 0s 22ms/step - loss: 716.2237 - mean_squared_error: 716.2237\n",
            "Epoch 8/10\n",
            "16/16 [==============================] - 0s 25ms/step - loss: 697.5659 - mean_squared_error: 697.5659\n",
            "Epoch 9/10\n",
            "16/16 [==============================] - 0s 17ms/step - loss: 692.0457 - mean_squared_error: 692.0457\n",
            "Epoch 10/10\n",
            "16/16 [==============================] - 0s 13ms/step - loss: 686.6647 - mean_squared_error: 686.6647\n",
            "Epoch 1/10\n",
            "16/16 [==============================] - 1s 3ms/step - loss: 1266.6089 - mean_squared_error: 1266.6089\n",
            "Epoch 2/10\n",
            "16/16 [==============================] - 0s 3ms/step - loss: 1241.5061 - mean_squared_error: 1241.5061\n",
            "Epoch 3/10\n",
            "16/16 [==============================] - 0s 2ms/step - loss: 1211.1545 - mean_squared_error: 1211.1545\n",
            "Epoch 4/10\n",
            "16/16 [==============================] - 0s 2ms/step - loss: 1163.3256 - mean_squared_error: 1163.3256\n",
            "Epoch 5/10\n",
            "16/16 [==============================] - 0s 2ms/step - loss: 1090.4430 - mean_squared_error: 1090.4430\n",
            "Epoch 6/10\n",
            "16/16 [==============================] - 0s 2ms/step - loss: 992.5574 - mean_squared_error: 992.5574\n",
            "Epoch 7/10\n",
            "16/16 [==============================] - 0s 3ms/step - loss: 876.2073 - mean_squared_error: 876.2073\n",
            "Epoch 8/10\n",
            "16/16 [==============================] - 0s 2ms/step - loss: 770.9739 - mean_squared_error: 770.9739\n",
            "Epoch 9/10\n",
            "16/16 [==============================] - 0s 2ms/step - loss: 702.2363 - mean_squared_error: 702.2363\n",
            "Epoch 10/10\n",
            "16/16 [==============================] - 0s 2ms/step - loss: 668.6685 - mean_squared_error: 668.6685\n",
            "4/4 [==============================] - 0s 4ms/step - loss: 615.1415 - mean_squared_error: 615.1415\n",
            "4/4 [==============================] - 0s 6ms/step - loss: 491.1310 - mean_squared_error: 491.1310\n",
            "4/4 [==============================] - 0s 6ms/step - loss: 551.6418 - mean_squared_error: 551.6418\n",
            "4/4 [==============================] - 0s 4ms/step - loss: 505.2502 - mean_squared_error: 505.2502\n"
          ]
        },
        {
          "output_type": "display_data",
          "data": {
            "text/plain": [
              "<Figure size 640x480 with 1 Axes>"
            ],
            "image/png": "[encoded data removed]"
          },
          "metadata": {}
        }
      ]
    }
  ]
}