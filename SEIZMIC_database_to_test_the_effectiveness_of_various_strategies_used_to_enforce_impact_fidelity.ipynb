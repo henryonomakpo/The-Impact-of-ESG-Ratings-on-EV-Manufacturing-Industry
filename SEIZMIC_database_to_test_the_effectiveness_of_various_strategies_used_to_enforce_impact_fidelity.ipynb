{
  "nbformat": 4,
  "nbformat_minor": 0,
  "metadata": {
    "colab": {
      "provenance": [],
      "authorship_tag": "ABX9TyP7H4Xi/oDhFvd55gJmf+Lg",
      "include_colab_link": true
    },
    "kernelspec": {
      "name": "python3",
      "display_name": "Python 3"
    },
    "language_info": {
      "name": "python"
    }
  },
  "cells": [
    {
      "cell_type": "markdown",
      "metadata": {
        "id": "view-in-github",
        "colab_type": "text"
      },
      "source": [
        "<a href=\"https://colab.research.google.com/github/henryonomakpo/The-Impact-of-ESG-Ratings-on-EV-Manufacturing-Industry/blob/main/SEIZMIC_database_to_test_the_effectiveness_of_various_strategies_used_to_enforce_impact_fidelity.ipynb\" target=\"_parent\"><img src=\"https://colab.research.google.com/assets/colab-badge.svg\" alt=\"Open In Colab\"/></a>"
      ]
    },
    {
      "cell_type": "markdown",
      "source": [
        "# SEIZMIC database to test the effectiveness of various strategies used to enforce impact fidelity.\n",
        "\n",
        "\n",
        "### Install the necessary library (sqlite3 is built-in, so no installation needed).\n",
        "### The code to create the database and tables:\n"
      ],
      "metadata": {
        "id": "ULuYiupcbNdT"
      }
    },
    {
      "cell_type": "code",
      "source": [
        "import sqlite3\n",
        "import pandas as pd\n",
        "\n",
        "# Create a connection to the database (this will create the file if it doesn't exist)\n",
        "conn = sqlite3.connect('seizmic_project.db')\n",
        "cursor = conn.cursor()\n",
        "\n",
        "# Create tables\n",
        "cursor.execute('''\n",
        "CREATE TABLE IF NOT EXISTS social_enterprises (\n",
        "    id INTEGER PRIMARY KEY AUTOINCREMENT,\n",
        "    name TEXT NOT NULL,\n",
        "    sector TEXT,\n",
        "    location TEXT,\n",
        "    size TEXT,\n",
        "    founding_date DATE,\n",
        "    primary_funding_source TEXT,\n",
        "    created_at TIMESTAMP DEFAULT CURRENT_TIMESTAMP,\n",
        "    updated_at TIMESTAMP DEFAULT CURRENT_TIMESTAMP\n",
        ")\n",
        "''')\n",
        "\n",
        "cursor.execute('''\n",
        "CREATE TABLE IF NOT EXISTS impact_investors (\n",
        "    id INTEGER PRIMARY KEY AUTOINCREMENT,\n",
        "    name TEXT NOT NULL,\n",
        "    type TEXT,\n",
        "    assets_under_management REAL,\n",
        "    focus_area TEXT,\n",
        "    created_at TIMESTAMP DEFAULT CURRENT_TIMESTAMP,\n",
        "    updated_at TIMESTAMP DEFAULT CURRENT_TIMESTAMP\n",
        ")\n",
        "''')\n",
        "\n",
        "cursor.execute('''\n",
        "CREATE TABLE IF NOT EXISTS investment_records (\n",
        "    id INTEGER PRIMARY KEY AUTOINCREMENT,\n",
        "    enterprise_id INTEGER,\n",
        "    investor_id INTEGER,\n",
        "    investment_amount REAL,\n",
        "    investment_date DATE,\n",
        "    investment_type TEXT,\n",
        "    investment_duration INTEGER,\n",
        "    conditions TEXT,\n",
        "    created_at TIMESTAMP DEFAULT CURRENT_TIMESTAMP,\n",
        "    updated_at TIMESTAMP DEFAULT CURRENT_TIMESTAMP,\n",
        "    FOREIGN KEY (enterprise_id) REFERENCES social_enterprises(id),\n",
        "    FOREIGN KEY (investor_id) REFERENCES impact_investors(id)\n",
        ")\n",
        "''')\n",
        "\n",
        "cursor.execute('''\n",
        "CREATE TABLE IF NOT EXISTS impact_metrics (\n",
        "    id INTEGER PRIMARY KEY AUTOINCREMENT,\n",
        "    enterprise_id INTEGER,\n",
        "    metric_name TEXT,\n",
        "    metric_value REAL,\n",
        "    measurement_date DATE,\n",
        "    metric_type TEXT CHECK(metric_type IN ('social', 'financial', 'environmental')),\n",
        "    created_at TIMESTAMP DEFAULT CURRENT_TIMESTAMP,\n",
        "    updated_at TIMESTAMP DEFAULT CURRENT_TIMESTAMP,\n",
        "    FOREIGN KEY (enterprise_id) REFERENCES social_enterprises(id)\n",
        ")\n",
        "''')\n",
        "\n",
        "cursor.execute('''\n",
        "CREATE TABLE IF NOT EXISTS investor_strategies (\n",
        "    id INTEGER PRIMARY KEY AUTOINCREMENT,\n",
        "    investor_id INTEGER,\n",
        "    strategy_name TEXT,\n",
        "    strategy_description TEXT,\n",
        "    created_at TIMESTAMP DEFAULT CURRENT_TIMESTAMP,\n",
        "    updated_at TIMESTAMP DEFAULT CURRENT_TIMESTAMP,\n",
        "    FOREIGN KEY (investor_id) REFERENCES impact_investors(id)\n",
        ")\n",
        "''')\n",
        "\n",
        "cursor.execute('''\n",
        "CREATE TABLE IF NOT EXISTS enterprise_challenges (\n",
        "    id INTEGER PRIMARY KEY AUTOINCREMENT,\n",
        "    enterprise_id INTEGER,\n",
        "    challenge_description TEXT,\n",
        "    challenge_date DATE,\n",
        "    resolution_status TEXT CHECK(resolution_status IN ('ongoing', 'resolved', 'abandoned')),\n",
        "    created_at TIMESTAMP DEFAULT CURRENT_TIMESTAMP,\n",
        "    updated_at TIMESTAMP DEFAULT CURRENT_TIMESTAMP,\n",
        "    FOREIGN KEY (enterprise_id) REFERENCES social_enterprises(id)\n",
        ")\n",
        "''')\n",
        "\n",
        "cursor.execute('''\n",
        "CREATE TABLE IF NOT EXISTS stakeholder_satisfaction (\n",
        "    id INTEGER PRIMARY KEY AUTOINCREMENT,\n",
        "    enterprise_id INTEGER,\n",
        "    stakeholder_type TEXT,\n",
        "    satisfaction_score INTEGER,\n",
        "    feedback_date DATE,\n",
        "    created_at TIMESTAMP DEFAULT CURRENT_TIMESTAMP,\n",
        "    updated_at TIMESTAMP DEFAULT CURRENT_TIMESTAMP,\n",
        "    FOREIGN KEY (enterprise_id) REFERENCES social_enterprises(id)\n",
        ")\n",
        "''')\n",
        "\n",
        "cursor.execute('''\n",
        "CREATE TABLE IF NOT EXISTS impact_fidelity_assessments (\n",
        "    id INTEGER PRIMARY KEY AUTOINCREMENT,\n",
        "    enterprise_id INTEGER,\n",
        "    assessment_date DATE,\n",
        "    overall_score REAL,\n",
        "    social_impact_score REAL,\n",
        "    financial_sustainability_score REAL,\n",
        "    mission_alignment_score REAL,\n",
        "    assessor_notes TEXT,\n",
        "    created_at TIMESTAMP DEFAULT CURRENT_TIMESTAMP,\n",
        "    updated_at TIMESTAMP DEFAULT CURRENT_TIMESTAMP,\n",
        "    FOREIGN KEY (enterprise_id) REFERENCES social_enterprises(id)\n",
        ")\n",
        "''')\n",
        "\n",
        "# Commit the changes and close the connection\n",
        "conn.commit()\n",
        "conn.close()\n",
        "\n",
        "print(\"Database and tables created successfully.\")"
      ],
      "metadata": {
        "colab": {
          "base_uri": "https://localhost:8080/"
        },
        "id": "4MuEpoiTbPY2",
        "outputId": "87daa913-769f-4c20-ca03-ec9f8372c34a"
      },
      "execution_count": 1,
      "outputs": [
        {
          "output_type": "stream",
          "name": "stdout",
          "text": [
            "Database and tables created successfully.\n"
          ]
        }
      ]
    },
    {
      "cell_type": "markdown",
      "source": [
        "### This code will create a SQLite database file named 'seizmic_project.db' in your Colab environment with all the necessary tables.\n",
        "# To verify that the tables were created, we can run:"
      ],
      "metadata": {
        "id": "33jDmTG0bzvG"
      }
    },
    {
      "cell_type": "code",
      "source": [
        "# Reconnect to the database\n",
        "conn = sqlite3.connect('seizmic_project.db')\n",
        "cursor = conn.cursor()\n",
        "\n",
        "# Get list of tables\n",
        "cursor.execute(\"SELECT name FROM sqlite_master WHERE type='table';\")\n",
        "tables = cursor.fetchall()\n",
        "\n",
        "print(\"Tables in the database:\")\n",
        "for table in tables:\n",
        "    print(table[0])\n",
        "\n",
        "conn.close()"
      ],
      "metadata": {
        "colab": {
          "base_uri": "https://localhost:8080/"
        },
        "id": "onTltdeSb7kZ",
        "outputId": "059b7133-a3ca-4105-928c-39094cf12d3a"
      },
      "execution_count": 2,
      "outputs": [
        {
          "output_type": "stream",
          "name": "stdout",
          "text": [
            "Tables in the database:\n",
            "social_enterprises\n",
            "sqlite_sequence\n",
            "impact_investors\n",
            "investment_records\n",
            "impact_metrics\n",
            "investor_strategies\n",
            "enterprise_challenges\n",
            "stakeholder_satisfaction\n",
            "impact_fidelity_assessments\n"
          ]
        }
      ]
    },
    {
      "cell_type": "code",
      "execution_count": null,
      "metadata": {
        "id": "Hkwtxi3-bMXH"
      },
      "outputs": [],
      "source": []
    }
  ]
}