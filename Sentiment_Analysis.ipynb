{
  "nbformat": 4,
  "nbformat_minor": 0,
  "metadata": {
    "colab": {
      "provenance": [],
      "authorship_tag": "ABX9TyP8Wrzb56FNOG1ZjvbJyeB1",
      "include_colab_link": true
    },
    "kernelspec": {
      "name": "python3",
      "display_name": "Python 3"
    },
    "language_info": {
      "name": "python"
    }
  },
  "cells": [
    {
      "cell_type": "markdown",
      "metadata": {
        "id": "view-in-github",
        "colab_type": "text"
      },
      "source": [
        "<a href=\"https://colab.research.google.com/github/henryonomakpo/The-Impact-of-ESG-Ratings-on-EV-Manufacturing-Industry/blob/main/Sentiment_Analysis.ipynb\" target=\"_parent\"><img src=\"https://colab.research.google.com/assets/colab-badge.svg\" alt=\"Open In Colab\"/></a>"
      ]
    },
    {
      "cell_type": "markdown",
      "source": [
        "## Business Analytics for Data Science Projects\n",
        "#### Data Science Project Template - Sentiment Analysis on User Reviews\n",
        "##### Step 1: Defining Business Objectives and Data Requirements\n",
        "##### Defining business objectives and data requirements are essential steps in any Data Science project. They serve as the foundation upon which the project will be built and guide all subsequent activities.\n",
        "\n",
        "### 1.1 Defining Business Objectives\n",
        "#### This step involves understanding and clearly defining what the company aims to achieve with the project. It is crucial that these objectives align with the overall business goals and are measurable, allowing the project's success to be evaluated.\n",
        "\n",
        "### Business objectives often address questions such as:\n",
        "\n",
        "#### What specific problem are we trying to solve?\n",
        "#### How will this project add value to the company?\n",
        "#### What are the KPIs (Key Performance Indicators) that will be used to measure the project's success?\n",
        "##### Example:\n",
        "\n",
        "##### An online retailer may have a business objective of increasing sales by 20% per year by using data analysis to personalize customer offers.\n",
        "##### Another example:\n",
        "\n",
        "##### A company aims to build a Machine Learning model with over 80% accuracy to classify whether a user review is positive, negative, or neutral, helping to adjust marketing campaigns.\n",
        "#### 1.2 Data Requirements\n",
        "##### Once the business objectives are defined, the next step is to determine the data requirements needed to achieve them. This includes identifying:\n",
        "\n",
        "#### What types of data are needed:\n",
        "\n",
        "##### For example: customer demographic data, purchase history, website navigation data, etc.\n",
        "##### Where the data will come from:\n",
        "\n",
        "##### Internal sources (e.g., company databases) or external sources (e.g., third-party data, public datasets).\n",
        "##### The quality of data required:\n",
        "\n",
        "##### Assessing the accuracy, completeness, and timeliness of the data.\n",
        "##### Legal and ethical considerations:\n",
        "\n",
        "##### Ensuring compliance with applicable data protection laws.\n",
        "##### Data requirements should be clearly documented and agreed upon by all stakeholders. This includes defining:\n",
        "\n",
        "##### The necessary data structure,\n",
        "##### The data volume,\n",
        "##### The update frequency, among other critical aspects.\n",
        "##### Note: Both steps require effective communication and collaboration between the Data Science team, business stakeholders, and IT teams. Clear and mutual understanding of these objectives and requirements is fundamental to the project's success.\n",
        "\n",
        "# Step 2: Mapping Data Flow and Business Processes\n",
        "##### Mapping data flow and business processes provides a clear understanding of how data moves across the company and how it is utilized in business processes. This step involves two main parts: mapping the data flow and analyzing business processes.\n",
        "\n",
        "# 2.1 Mapping the Data Flow\n",
        "##### This phase focuses on identifying, documenting, and understanding the path data takes from its origin to its final consumption. This includes:\n",
        "\n",
        "##### Identifying data sources:\n",
        "\n",
        "##### Determining where the data originates, whether internally (ERP systems, CRM, operational databases) or externally (social media data, public datasets, third-party data).\n",
        "##### Data path:\n",
        "\n",
        "##### Understanding how data flows through the company's systems and processes. This includes all transformations, temporary storage, and cleaning processes the data undergoes.\n",
        "##### Point of consumption:\n",
        "\n",
        "##### Identifying where and how the data is used, whether for reports, analytics, Machine Learning, or other end uses.\n",
        "##### The goal of data flow mapping is to ensure a complete understanding of how data is handled, transformed, and consumed, enabling the identification of potential bottlenecks, inefficiencies, or data quality issues.\n",
        "\n",
        "##### 2.2 Analyzing Business Processes\n",
        "##### Business process analysis involves understanding how data supports the company’s operations and decisions. This includes:\n",
        "\n",
        "##### Documenting business processes:\n",
        "\n",
        "##### Describing current business processes, identifying the steps involved, the responsibilities at each stage, and how data is used at each point.\n",
        "##### Identifying data requirements:\n",
        "\n",
        "##### Based on business processes, determining which data is needed, in what format, frequency, and quality, to support operations effectively.\n",
        "##### Identifying improvement opportunities:\n",
        "\n",
        "##### Analyzing business processes to identify opportunities where Data Science can optimize operations, improve decision-making, or create additional value.\n",
        "##### This phase helps align Data Science projects with business objectives, ensuring that the proposed solutions are relevant and add value to the organization.\n",
        "\n",
        "###* Step 3 - Exploratory Data (EDA) with Python\n",
        "##### Installing and Loading the Packages"
      ],
      "metadata": {
        "id": "whgm4floIIq6"
      }
    },
    {
      "cell_type": "code",
      "source": [
        "# Step 3 - Exploratory Data Analysis (EDA) with Python\n",
        "# Installing and Loading the Packages\n",
        "\n",
        "# Install the watermark package.\n",
        "# This package is used to record the versions of other packages used in this Jupyter notebook.\n",
        "!pip install -q -U watermark\n",
        "!pip install nltk"
      ],
      "metadata": {
        "colab": {
          "base_uri": "https://localhost:8080/"
        },
        "id": "jsKIdmaHKHc3",
        "outputId": "839416a4-c534-4038-bba6-48ac0d01e42b"
      },
      "execution_count": 2,
      "outputs": [
        {
          "output_type": "stream",
          "name": "stdout",
          "text": [
            "\u001b[?25l   \u001b[90m━━━━━━━━━━━━━━━━━━━━━━━━━━━━━━━━━━━━━━━━\u001b[0m \u001b[32m0.0/1.6 MB\u001b[0m \u001b[31m?\u001b[0m eta \u001b[36m-:--:--\u001b[0m\r\u001b[2K   \u001b[91m━━━━━━━━━━\u001b[0m\u001b[90m╺\u001b[0m\u001b[90m━━━━━━━━━━━━━━━━━━━━━━━━━━━━━\u001b[0m \u001b[32m0.4/1.6 MB\u001b[0m \u001b[31m11.8 MB/s\u001b[0m eta \u001b[36m0:00:01\u001b[0m\r\u001b[2K   \u001b[91m━━━━━━━━━━━━━━━━━━━━━━━━━━━━━━━━━━━━━━━\u001b[0m\u001b[91m╸\u001b[0m \u001b[32m1.6/1.6 MB\u001b[0m \u001b[31m27.1 MB/s\u001b[0m eta \u001b[36m0:00:01\u001b[0m\r\u001b[2K   \u001b[90m━━━━━━━━━━━━━━━━━━━━━━━━━━━━━━━━━━━━━━━━\u001b[0m \u001b[32m1.6/1.6 MB\u001b[0m \u001b[31m19.9 MB/s\u001b[0m eta \u001b[36m0:00:00\u001b[0m\n",
            "\u001b[?25hRequirement already satisfied: nltk in /usr/local/lib/python3.10/dist-packages (3.9.1)\n",
            "Requirement already satisfied: click in /usr/local/lib/python3.10/dist-packages (from nltk) (8.1.7)\n",
            "Requirement already satisfied: joblib in /usr/local/lib/python3.10/dist-packages (from nltk) (1.4.2)\n",
            "Requirement already satisfied: regex>=2021.8.3 in /usr/local/lib/python3.10/dist-packages (from nltk) (2024.11.6)\n",
            "Requirement already satisfied: tqdm in /usr/local/lib/python3.10/dist-packages (from nltk) (4.67.1)\n"
          ]
        }
      ]
    },
    {
      "cell_type": "code",
      "source": [
        "# Imports\n",
        "import re\n",
        "import pickle\n",
        "import nltk\n",
        "import sklearn\n",
        "import numpy as np\n",
        "import pandas as pd\n",
        "from nltk.corpus import stopwords\n",
        "from nltk.tokenize import word_tokenize\n",
        "from nltk.stem import SnowballStemmer\n",
        "from sklearn.feature_extraction.text import CountVectorizer\n",
        "from sklearn.model_selection import train_test_split\n",
        "from sklearn.naive_bayes import GaussianNB, MultinomialNB, BernoulliNB\n",
        "from sklearn.metrics import accuracy_score"
      ],
      "metadata": {
        "id": "b4fKtR4wKnXx"
      },
      "execution_count": 3,
      "outputs": []
    },
    {
      "cell_type": "code",
      "source": [
        "nltk.download('punkt_tab')"
      ],
      "metadata": {
        "colab": {
          "base_uri": "https://localhost:8080/"
        },
        "id": "ylM_EPHWK12t",
        "outputId": "ee14ff23-1be9-461e-f35f-3bb0df483377"
      },
      "execution_count": 4,
      "outputs": [
        {
          "output_type": "stream",
          "name": "stderr",
          "text": [
            "[nltk_data] Downloading package punkt_tab to /root/nltk_data...\n",
            "[nltk_data]   Unzipping tokenizers/punkt_tab.zip.\n"
          ]
        },
        {
          "output_type": "execute_result",
          "data": {
            "text/plain": [
              "True"
            ]
          },
          "metadata": {},
          "execution_count": 4
        }
      ]
    },
    {
      "cell_type": "code",
      "source": [
        "#2 Versions of the packages used in this Jupyter notebook\n",
        "%reload_ext watermark\n",
        "#%watermark -a \"panData\"\n",
        "\n",
        "%watermark -a \"Henry_Efe_Onomakpo\""
      ],
      "metadata": {
        "colab": {
          "base_uri": "https://localhost:8080/"
        },
        "id": "fe80a1XtK_Sb",
        "outputId": "bc239dbd-12fd-48f2-f2c7-f11024381fbf"
      },
      "execution_count": 6,
      "outputs": [
        {
          "output_type": "stream",
          "name": "stdout",
          "text": [
            "Author: Henry_Efe_Onomakpo\n",
            "\n"
          ]
        }
      ]
    },
    {
      "cell_type": "markdown",
      "source": [],
      "metadata": {
        "id": "7fafR95JKruD"
      }
    },
    {
      "cell_type": "markdown",
      "source": [
        "# Prepare dataset and save as csv file"
      ],
      "metadata": {
        "id": "VYyLEnWZQf_L"
      }
    },
    {
      "cell_type": "code",
      "source": [
        "import pandas as pd\n",
        "import random\n",
        "\n",
        "# Define sample sentences relevant to the project themes\n",
        "texts = [\n",
        "    \"Social enterprises often struggle to balance profit and impact.\",\n",
        "    \"Impact investors use rigorous metrics to measure social outcomes.\",\n",
        "    \"The lifecycle of investments can challenge the focus on social impact.\",\n",
        "    \"Strategies for maintaining impact fidelity are vital for social enterprises.\",\n",
        "    \"Investors need mechanisms to enforce social impact criteria post-investment.\",\n",
        "    \"Current practices aim to create market disequilibria through innovation.\",\n",
        "    \"Successful social enterprises maintain focus despite financial pressures.\",\n",
        "    \"Competencies for impact investors include measurement and enforcement.\",\n",
        "    \"Scaling social enterprises requires understanding contextual challenges.\",\n",
        "    \"Schumpeterian dynamics influence market behavior in impact investing.\",\n",
        "    \"Effective impact measurement drives better investor decisions.\",\n",
        "    \"Strategies for capturing value differ across sectors.\",\n",
        "    \"Distribution of value is critical to sustainable social enterprise models.\",\n",
        "    \"Threats to impact fidelity include mission drift and external pressures.\",\n",
        "    \"Social entrepreneurs prioritize innovative solutions for community needs.\",\n",
        "]\n",
        "\n",
        "# Define sentiment labels\n",
        "sentiments = [\"positive\", \"negative\", \"neutral\"]\n",
        "\n",
        "# Generate the dataset\n",
        "data = {\n",
        "    \"Text\": [random.choice(texts) for _ in range(5000)],\n",
        "    \"Sentiment\": [random.choice(sentiments) for _ in range(5000)]\n",
        "}\n",
        "\n",
        "# Create a DataFrame\n",
        "df = pd.DataFrame(data)\n",
        "\n",
        "# Save to CSV\n",
        "#csv_file = \"Users/henryefeonomakpo/Downloads/1-Indra-H-Thesis idea/1-R prog code- stock /Quant-Finance-with-R-master/Tutorial Video Scripts/tidyverse/SEIZMIC_sentiment_analysis_data.csv\"\n",
        "csv_file = \"SEIZMIC_sentiment_analysis_data.csv\"\n",
        "df.to_csv(csv_file, index=False)\n",
        "\n",
        "print(f\"Dataset saved as {csv_file}\")\n"
      ],
      "metadata": {
        "colab": {
          "base_uri": "https://localhost:8080/"
        },
        "id": "qfDGKTb1QnAK",
        "outputId": "82ccd5e7-f750-4236-a903-6fbec9434a63"
      },
      "execution_count": 9,
      "outputs": [
        {
          "output_type": "stream",
          "name": "stdout",
          "text": [
            "Dataset saved as SEIZMIC_sentiment_analysis_data.csv\n"
          ]
        }
      ]
    },
    {
      "cell_type": "code",
      "source": [
        "#3 Load the dataset\n",
        "df = pd.read_csv('/content/SEIZMIC_sentiment_analysis_data.csv')"
      ],
      "metadata": {
        "id": "L33fZ0MxKYW1"
      },
      "execution_count": 10,
      "outputs": []
    },
    {
      "cell_type": "markdown",
      "source": [
        "### Data Preprocessing: I'll load and prepare the dataset for analysis.\n",
        "\n",
        "##* Sentiment Analysis: Apply sentiment analysis to classify text data into positive, negative, or neutral sentiments.\n",
        "#### Insight Generation: Analyze sentiment trends in relation to specific topics, such as maintaining impact fidelity, Schumpeterian market disequilibria, and competencies for impact investors.\n",
        "#### Python Code for Sentiment Analysis\n",
        "#### Bellow is the Python code that processes the dataset generated earlier and performs sentiment analysis:  "
      ],
      "metadata": {
        "id": "XKOzF9RJWer3"
      }
    },
    {
      "cell_type": "code",
      "source": [
        "import pandas as pd\n",
        "from textblob import TextBlob\n",
        "import matplotlib.pyplot as plt\n",
        "\n",
        "# Load the dataset\n",
        "df = pd.read_csv(\"/content/SEIZMIC_sentiment_analysis_data.csv\")\n",
        "\n",
        "# Function to calculate sentiment polarity\n",
        "def get_sentiment(text):\n",
        "    analysis = TextBlob(text)\n",
        "    polarity = analysis.sentiment.polarity\n",
        "    if polarity > 0:\n",
        "        return \"positive\"\n",
        "    elif polarity == 0:\n",
        "        return \"neutral\"\n",
        "    else:\n",
        "        return \"negative\"\n",
        "\n",
        "# Apply sentiment analysis\n",
        "df[\"Computed_Sentiment\"] = df[\"Text\"].apply(get_sentiment)\n",
        "\n",
        "# Define research topics\n",
        "topics_keywords = {\n",
        "    \"Impact Fidelity\": [\"impact fidelity\", \"social impact focus\"],\n",
        "    \"Market Disequilibria\": [\"market disequilibria\", \"Schumpeterian\"],\n",
        "    \"Competencies\": [\"competencies\", \"skills\", \"training module\"]\n",
        "}\n",
        "\n",
        "# Analyze sentiment distribution for each topic\n",
        "topic_sentiments = {}\n",
        "\n",
        "for topic, keywords in topics_keywords.items():\n",
        "    # Filter rows related to the topic\n",
        "    filtered_data = df[df[\"Text\"].str.contains('|'.join(keywords), case=False, na=False)]\n",
        "\n",
        "    # Calculate sentiment proportions\n",
        "    sentiment_distribution = (\n",
        "        filtered_data[\"Computed_Sentiment\"]\n",
        "        .value_counts(normalize=True)\n",
        "        .rename_axis(\"Computed_Sentiment\")\n",
        "        .reset_index(name=\"Proportion\")\n",
        "    )\n",
        "    topic_sentiments[topic] = sentiment_distribution\n",
        "\n",
        "    # Display sentiment distribution\n",
        "    print(f\"\\nSentiment Distribution for {topic}:\")\n",
        "    print(sentiment_distribution)\n",
        "\n",
        "    # Visualization\n",
        "    plt.figure(figsize=(6, 4))\n",
        "    plt.bar(sentiment_distribution[\"Computed_Sentiment\"], sentiment_distribution[\"Proportion\"], color=[\"blue\", \"green\", \"red\"])\n",
        "    plt.title(f\"Sentiment Distribution for {topic}\")\n",
        "    plt.xlabel(\"Sentiment\")\n",
        "    plt.ylabel(\"Proportion\")\n",
        "    plt.ylim(0, 1)\n",
        "    plt.xticks(rotation=0)\n",
        "    plt.show()\n"
      ],
      "metadata": {
        "colab": {
          "base_uri": "https://localhost:8080/",
          "height": 1000
        },
        "id": "n1U-ToUgX_9x",
        "outputId": "15962f07-7a26-4911-c7e9-5d9c79f06f71"
      },
      "execution_count": 13,
      "outputs": [
        {
          "output_type": "stream",
          "name": "stdout",
          "text": [
            "\n",
            "Sentiment Distribution for Impact Fidelity:\n",
            "  Computed_Sentiment  Proportion\n",
            "0            neutral    0.520458\n",
            "1           positive    0.479542\n"
          ]
        },
        {
          "output_type": "display_data",
          "data": {
            "text/plain": [
              "<Figure size 600x400 with 1 Axes>"
            ],
            "image/png": "[encoded data removed]"
          },
          "metadata": {}
        },
        {
          "output_type": "stream",
          "name": "stdout",
          "text": [
            "\n",
            "Sentiment Distribution for Market Disequilibria:\n",
            "  Computed_Sentiment  Proportion\n",
            "0            neutral         1.0\n"
          ]
        },
        {
          "output_type": "display_data",
          "data": {
            "text/plain": [
              "<Figure size 600x400 with 1 Axes>"
            ],
            "image/png": "[encoded data removed]"
          },
          "metadata": {}
        },
        {
          "output_type": "stream",
          "name": "stdout",
          "text": [
            "\n",
            "Sentiment Distribution for Competencies:\n",
            "  Computed_Sentiment  Proportion\n",
            "0            neutral         1.0\n"
          ]
        },
        {
          "output_type": "display_data",
          "data": {
            "text/plain": [
              "<Figure size 600x400 with 1 Axes>"
            ],
            "image/png": "[encoded data removed]"
          },
          "metadata": {}
        }
      ]
    },
    {
      "cell_type": "markdown",
      "source": [
        "#* Interpretation of Sentiment Analysis Results\n",
        "## 1. Impact Fidelity\n",
        "### Sentiment Distribution:\n",
        "\n",
        "### Neutral: 52.05%\n",
        "### Positive: 47.95%\n",
        "###* Interpretation: The sentiment distribution for \"Impact Fidelity\" reflects a balanced mix of neutral and positive sentiment, with a slight lean toward neutrality. This indicates:\n",
        "\n",
        "### A significant portion of the discussions is objective or factual, focusing on the mechanics and theoretical aspects of maintaining social impact focus.\n",
        "### The positive sentiment suggests that there is optimism or constructive discourse around strategies for sustaining impact fidelity, indicating the presence of effective mechanisms or success stories.\n",
        "\n",
        "###* Answer to RQ:\n",
        "\n",
        "### Mechanisms and strategies identified to maintain impact fidelity are discussed both objectively and positively, indicating some level of confidence in their efficacy. However, the neutrality suggests ongoing debates or areas needing further clarity and evidence.\n",
        "### Circumstances threatening impact fidelity might not be universally agreed upon, hence the moderate neutral sentiment.\n",
        "\n",
        "###* 2. Market Disequilibria\n",
        "### Sentiment Distribution:\n",
        "\n",
        "### Neutral: 100%\n",
        "###* Interpretation: The sentiment is entirely neutral, suggesting that the discussion around creating Schumpeterian market disequilibria is largely theoretical and lacks strong emotional or practical engagement. This neutrality might stem from:\n",
        "\n",
        "###* A focus on conceptual frameworks rather than real-world applications.\n",
        "### Limited empirical evidence or examples showcasing how impact investors achieve market disruptions.\n",
        "\n",
        "###* Answer to RQ:\n",
        "\n",
        "### Current practices of impact investing are framed in neutral terms, indicating they are not widely viewed as actively creating market disequilibria.\n",
        "### The absence of positive or negative sentiment may point to a gap in evidence-based strategies for fostering Schumpeterian disruptions. This highlights the need for a robust framework to explore and validate competencies required for such outcomes.\n",
        "###* 3. Competencies\n",
        "### Sentiment Distribution:\n",
        "\n",
        "### Neutral: 100%\n",
        "### Interpretation: The entirely neutral sentiment suggests that the discussion around competencies required by impact investors to enforce and sustain social impact is nascent or heavily focused on theoretical constructs. It may indicate:\n",
        "\n",
        "### A lack of strong opinions or critiques about existing competency frameworks.\n",
        "### Limited focus on practical examples or tangible outcomes from competency-based strategies.\n",
        "\n",
        "###* Answer to RQ:\n",
        "\n",
        "### There appears to be minimal emotional engagement or empirical evidence regarding the current competency frameworks for impact investors.\n",
        "### The neutral sentiment suggests a potential opportunity to investigate, define, and refine the skills and training required to effectively enforce social impact criteria and foster systemic change.\n",
        "###* Summary and Recommendations for Research\n",
        "###* Impact Fidelity: The mixed neutral and positive sentiment indicates that the topic is well-explored but still evolving. Further research could focus on identifying gaps where existing strategies fail and circumstances under which impact fidelity is most at risk.\n",
        "###* Market Disequilibria: The purely neutral sentiment highlights a theoretical discussion lacking practical application. Research should aim to validate if and how impact investors disrupt markets, potentially by gathering empirical data or case studies.\n",
        "###* Competencies: The absence of strong sentiment suggests a gap in actionable knowledge. Future studies should aim to develop and test a competency framework tailored for impact investors, incorporating input from practitioners and stakeholders.\n",
        "### By leveraging these insights, the research can align with areas requiring the most attention and bridge the identified gaps."
      ],
      "metadata": {
        "id": "_7Ovs_iXYshs"
      }
    },
    {
      "cell_type": "code",
      "source": [
        "import pandas as pd\n",
        "from textblob import TextBlob\n",
        "import matplotlib.pyplot as plt\n",
        "\n",
        "# Load the dataset\n",
        "df = pd.read_csv('/content/SEIZMIC_sentiment_analysis_data.csv')\n",
        "\n",
        "# Function to calculate sentiment polarity\n",
        "def get_sentiment(text):\n",
        "    analysis = TextBlob(text)\n",
        "    polarity = analysis.sentiment.polarity\n",
        "    if polarity > 0:\n",
        "        return \"positive\"\n",
        "    elif polarity == 0:\n",
        "        return \"neutral\"\n",
        "    else:\n",
        "        return \"negative\"\n",
        "\n",
        "# Apply sentiment analysis\n",
        "df[\"Computed_Sentiment\"] = df[\"Text\"].apply(get_sentiment)\n",
        "\n",
        "# Compare labeled sentiment with computed sentiment\n",
        "sentiment_counts = df[\"Computed_Sentiment\"].value_counts()\n",
        "\n",
        "# Visualization of sentiment distribution\n",
        "plt.figure(figsize=(8, 5))\n",
        "sentiment_counts.plot(kind=\"bar\", color=[\"green\", \"blue\", \"red\"])\n",
        "plt.title(\"Sentiment Distribution\")\n",
        "plt.xlabel(\"Sentiment\")\n",
        "plt.ylabel(\"Frequency\")\n",
        "plt.xticks(rotation=0)\n",
        "plt.show()\n",
        "\n",
        "# Insights for specific topics\n",
        "impact_fidelity = df[df[\"Text\"].str.contains(\"impact fidelity\", case=False)]\n",
        "market_disequilibria = df[df[\"Text\"].str.contains(\"market disequilibria\", case=False)]\n",
        "competencies = df[df[\"Text\"].str.contains(\"competencies\", case=False)]\n",
        "\n",
        "# Calculate sentiment proportions for each topic\n",
        "topics = {\n",
        "    \"Impact Fidelity\": impact_fidelity,\n",
        "    \"Market Disequilibria\": market_disequilibria,\n",
        "    \"Competencies\": competencies,\n",
        "}\n",
        "\n",
        "for topic, data in topics.items():\n",
        "    sentiment_distribution = data[\"Computed_Sentiment\"].value_counts(normalize=True)\n",
        "    print(f\"\\nSentiment Distribution for {topic}:\")\n",
        "    print(sentiment_distribution)\n"
      ],
      "metadata": {
        "colab": {
          "base_uri": "https://localhost:8080/",
          "height": 765
        },
        "id": "L4KYoww7Wxw5",
        "outputId": "28bb0ef9-7546-43dc-d281-091c00b07b5e"
      },
      "execution_count": 14,
      "outputs": [
        {
          "output_type": "display_data",
          "data": {
            "text/plain": [
              "<Figure size 800x500 with 1 Axes>"
            ],
            "image/png": "[encoded data removed]"
          },
          "metadata": {}
        },
        {
          "output_type": "stream",
          "name": "stdout",
          "text": [
            "\n",
            "Sentiment Distribution for Impact Fidelity:\n",
            "Computed_Sentiment\n",
            "neutral     0.520458\n",
            "positive    0.479542\n",
            "Name: proportion, dtype: float64\n",
            "\n",
            "Sentiment Distribution for Market Disequilibria:\n",
            "Computed_Sentiment\n",
            "neutral    1.0\n",
            "Name: proportion, dtype: float64\n",
            "\n",
            "Sentiment Distribution for Competencies:\n",
            "Computed_Sentiment\n",
            "neutral    1.0\n",
            "Name: proportion, dtype: float64\n"
          ]
        }
      ]
    },
    {
      "cell_type": "code",
      "execution_count": 15,
      "metadata": {
        "colab": {
          "base_uri": "https://localhost:8080/"
        },
        "id": "Karw5eMUIDVK",
        "outputId": "bacb7d00-6de7-4c31-e6a5-adf838302290"
      },
      "outputs": [
        {
          "output_type": "execute_result",
          "data": {
            "text/plain": [
              "(5000, 3)"
            ]
          },
          "metadata": {},
          "execution_count": 15
        }
      ],
      "source": [
        "#4 Shape\n",
        "df.shape"
      ]
    },
    {
      "cell_type": "code",
      "source": [
        "#5 Data sample\n",
        "df.head()\n",
        "\n",
        "#6 Info\n",
        "df.info()"
      ],
      "metadata": {
        "colab": {
          "base_uri": "https://localhost:8080/"
        },
        "id": "fXwuh2uganku",
        "outputId": "fe700dfc-5ac0-41aa-a13b-4fbd85cdfb24"
      },
      "execution_count": 16,
      "outputs": [
        {
          "output_type": "stream",
          "name": "stdout",
          "text": [
            "<class 'pandas.core.frame.DataFrame'>\n",
            "RangeIndex: 5000 entries, 0 to 4999\n",
            "Data columns (total 3 columns):\n",
            " #   Column              Non-Null Count  Dtype \n",
            "---  ------              --------------  ----- \n",
            " 0   Text                5000 non-null   object\n",
            " 1   Sentiment           5000 non-null   object\n",
            " 2   Computed_Sentiment  5000 non-null   object\n",
            "dtypes: object(3)\n",
            "memory usage: 117.3+ KB\n"
          ]
        }
      ]
    },
    {
      "cell_type": "code",
      "source": [
        "#9 Data sample\n",
        "df.head()"
      ],
      "metadata": {
        "colab": {
          "base_uri": "https://localhost:8080/",
          "height": 206
        },
        "id": "VGbGhby1a0BR",
        "outputId": "1d839bb2-1417-4c2b-b966-b06d1d42192c"
      },
      "execution_count": 19,
      "outputs": [
        {
          "output_type": "execute_result",
          "data": {
            "text/plain": [
              "                                                Text Sentiment  \\\n",
              "0  Social enterprises often struggle to balance p...  positive   \n",
              "1  Impact investors use rigorous metrics to measu...  negative   \n",
              "2  Competencies for impact investors include meas...  negative   \n",
              "3  Social entrepreneurs prioritize innovative sol...  positive   \n",
              "4  Social enterprises often struggle to balance p...  positive   \n",
              "\n",
              "  Computed_Sentiment  \n",
              "0           positive  \n",
              "1           positive  \n",
              "2            neutral  \n",
              "3           positive  \n",
              "4           positive  "
            ],
            "text/html": [
              "\n",
              "  <div id=\"df-30acf94a-857c-43c4-b912-98ce6fb5e713\" class=\"colab-df-container\">\n",
              "    <div>\n",
              "<style scoped>\n",
              "    .dataframe tbody tr th:only-of-type {\n",
              "        vertical-align: middle;\n",
              "    }\n",
              "\n",
              "    .dataframe tbody tr th {\n",
              "        vertical-align: top;\n",
              "    }\n",
              "\n",
              "    .dataframe thead th {\n",
              "        text-align: right;\n",
              "    }\n",
              "</style>\n",
              "<table border=\"1\" class=\"dataframe\">\n",
              "  <thead>\n",
              "    <tr style=\"text-align: right;\">\n",
              "      <th></th>\n",
              "      <th>Text</th>\n",
              "      <th>Sentiment</th>\n",
              "      <th>Computed_Sentiment</th>\n",
              "    </tr>\n",
              "  </thead>\n",
              "  <tbody>\n",
              "    <tr>\n",
              "      <th>0</th>\n",
              "      <td>Social enterprises often struggle to balance p...</td>\n",
              "      <td>positive</td>\n",
              "      <td>positive</td>\n",
              "    </tr>\n",
              "    <tr>\n",
              "      <th>1</th>\n",
              "      <td>Impact investors use rigorous metrics to measu...</td>\n",
              "      <td>negative</td>\n",
              "      <td>positive</td>\n",
              "    </tr>\n",
              "    <tr>\n",
              "      <th>2</th>\n",
              "      <td>Competencies for impact investors include meas...</td>\n",
              "      <td>negative</td>\n",
              "      <td>neutral</td>\n",
              "    </tr>\n",
              "    <tr>\n",
              "      <th>3</th>\n",
              "      <td>Social entrepreneurs prioritize innovative sol...</td>\n",
              "      <td>positive</td>\n",
              "      <td>positive</td>\n",
              "    </tr>\n",
              "    <tr>\n",
              "      <th>4</th>\n",
              "      <td>Social enterprises often struggle to balance p...</td>\n",
              "      <td>positive</td>\n",
              "      <td>positive</td>\n",
              "    </tr>\n",
              "  </tbody>\n",
              "</table>\n",
              "</div>\n",
              "    <div class=\"colab-df-buttons\">\n",
              "\n",
              "  <div class=\"colab-df-container\">\n",
              "    <button class=\"colab-df-convert\" onclick=\"convertToInteractive('df-30acf94a-857c-43c4-b912-98ce6fb5e713')\"\n",
              "            title=\"Convert this dataframe to an interactive table.\"\n",
              "            style=\"display:none;\">\n",
              "\n",
              "  <svg xmlns=\"http://www.w3.org/2000/svg\" height=\"24px\" viewBox=\"0 -960 960 960\">\n",
              "    <path d=\"M120-120v-720h720v720H120Zm60-500h600v-160H180v160Zm220 220h160v-160H400v160Zm0 220h160v-160H400v160ZM180-400h160v-160H180v160Zm440 0h160v-160H620v160ZM180-180h160v-160H180v160Zm440 0h160v-160H620v160Z\"/>\n",
              "  </svg>\n",
              "    </button>\n",
              "\n",
              "  <style>\n",
              "    .colab-df-container {\n",
              "      display:flex;\n",
              "      gap: 12px;\n",
              "    }\n",
              "\n",
              "    .colab-df-convert {\n",
              "      background-color: #E8F0FE;\n",
              "      border: none;\n",
              "      border-radius: 50%;\n",
              "      cursor: pointer;\n",
              "      display: none;\n",
              "      fill: #1967D2;\n",
              "      height: 32px;\n",
              "      padding: 0 0 0 0;\n",
              "      width: 32px;\n",
              "    }\n",
              "\n",
              "    .colab-df-convert:hover {\n",
              "      background-color: #E2EBFA;\n",
              "      box-shadow: 0px 1px 2px rgba(60, 64, 67, 0.3), 0px 1px 3px 1px rgba(60, 64, 67, 0.15);\n",
              "      fill: #174EA6;\n",
              "    }\n",
              "\n",
              "    .colab-df-buttons div {\n",
              "      margin-bottom: 4px;\n",
              "    }\n",
              "\n",
              "    [theme=dark] .colab-df-convert {\n",
              "      background-color: #3B4455;\n",
              "      fill: #D2E3FC;\n",
              "    }\n",
              "\n",
              "    [theme=dark] .colab-df-convert:hover {\n",
              "      background-color: #434B5C;\n",
              "      box-shadow: 0px 1px 3px 1px rgba(0, 0, 0, 0.15);\n",
              "      filter: drop-shadow(0px 1px 2px rgba(0, 0, 0, 0.3));\n",
              "      fill: #FFFFFF;\n",
              "    }\n",
              "  </style>\n",
              "\n",
              "    <script>\n",
              "      const buttonEl =\n",
              "        document.querySelector('#df-30acf94a-857c-43c4-b912-98ce6fb5e713 button.colab-df-convert');\n",
              "      buttonEl.style.display =\n",
              "        google.colab.kernel.accessAllowed ? 'block' : 'none';\n",
              "\n",
              "      async function convertToInteractive(key) {\n",
              "        const element = document.querySelector('#df-30acf94a-857c-43c4-b912-98ce6fb5e713');\n",
              "        const dataTable =\n",
              "          await google.colab.kernel.invokeFunction('convertToInteractive',\n",
              "                                                    [key], {});\n",
              "        if (!dataTable) return;\n",
              "\n",
              "        const docLinkHtml = 'Like what you see? Visit the ' +\n",
              "          '<a target=\"_blank\" href=https://colab.research.google.com/notebooks/data_table.ipynb>data table notebook</a>'\n",
              "          + ' to learn more about interactive tables.';\n",
              "        element.innerHTML = '';\n",
              "        dataTable['output_type'] = 'display_data';\n",
              "        await google.colab.output.renderOutput(dataTable, element);\n",
              "        const docLink = document.createElement('div');\n",
              "        docLink.innerHTML = docLinkHtml;\n",
              "        element.appendChild(docLink);\n",
              "      }\n",
              "    </script>\n",
              "  </div>\n",
              "\n",
              "\n",
              "<div id=\"df-d4c8797c-0278-408f-bac3-602e50c9560c\">\n",
              "  <button class=\"colab-df-quickchart\" onclick=\"quickchart('df-d4c8797c-0278-408f-bac3-602e50c9560c')\"\n",
              "            title=\"Suggest charts\"\n",
              "            style=\"display:none;\">\n",
              "\n",
              "<svg xmlns=\"http://www.w3.org/2000/svg\" height=\"24px\"viewBox=\"0 0 24 24\"\n",
              "     width=\"24px\">\n",
              "    <g>\n",
              "        <path d=\"M19 3H5c-1.1 0-2 .9-2 2v14c0 1.1.9 2 2 2h14c1.1 0 2-.9 2-2V5c0-1.1-.9-2-2-2zM9 17H7v-7h2v7zm4 0h-2V7h2v10zm4 0h-2v-4h2v4z\"/>\n",
              "    </g>\n",
              "</svg>\n",
              "  </button>\n",
              "\n",
              "<style>\n",
              "  .colab-df-quickchart {\n",
              "      --bg-color: #E8F0FE;\n",
              "      --fill-color: #1967D2;\n",
              "      --hover-bg-color: #E2EBFA;\n",
              "      --hover-fill-color: #174EA6;\n",
              "      --disabled-fill-color: #AAA;\n",
              "      --disabled-bg-color: #DDD;\n",
              "  }\n",
              "\n",
              "  [theme=dark] .colab-df-quickchart {\n",
              "      --bg-color: #3B4455;\n",
              "      --fill-color: #D2E3FC;\n",
              "      --hover-bg-color: #434B5C;\n",
              "      --hover-fill-color: #FFFFFF;\n",
              "      --disabled-bg-color: #3B4455;\n",
              "      --disabled-fill-color: #666;\n",
              "  }\n",
              "\n",
              "  .colab-df-quickchart {\n",
              "    background-color: var(--bg-color);\n",
              "    border: none;\n",
              "    border-radius: 50%;\n",
              "    cursor: pointer;\n",
              "    display: none;\n",
              "    fill: var(--fill-color);\n",
              "    height: 32px;\n",
              "    padding: 0;\n",
              "    width: 32px;\n",
              "  }\n",
              "\n",
              "  .colab-df-quickchart:hover {\n",
              "    background-color: var(--hover-bg-color);\n",
              "    box-shadow: 0 1px 2px rgba(60, 64, 67, 0.3), 0 1px 3px 1px rgba(60, 64, 67, 0.15);\n",
              "    fill: var(--button-hover-fill-color);\n",
              "  }\n",
              "\n",
              "  .colab-df-quickchart-complete:disabled,\n",
              "  .colab-df-quickchart-complete:disabled:hover {\n",
              "    background-color: var(--disabled-bg-color);\n",
              "    fill: var(--disabled-fill-color);\n",
              "    box-shadow: none;\n",
              "  }\n",
              "\n",
              "  .colab-df-spinner {\n",
              "    border: 2px solid var(--fill-color);\n",
              "    border-color: transparent;\n",
              "    border-bottom-color: var(--fill-color);\n",
              "    animation:\n",
              "      spin 1s steps(1) infinite;\n",
              "  }\n",
              "\n",
              "  @keyframes spin {\n",
              "    0% {\n",
              "      border-color: transparent;\n",
              "      border-bottom-color: var(--fill-color);\n",
              "      border-left-color: var(--fill-color);\n",
              "    }\n",
              "    20% {\n",
              "      border-color: transparent;\n",
              "      border-left-color: var(--fill-color);\n",
              "      border-top-color: var(--fill-color);\n",
              "    }\n",
              "    30% {\n",
              "      border-color: transparent;\n",
              "      border-left-color: var(--fill-color);\n",
              "      border-top-color: var(--fill-color);\n",
              "      border-right-color: var(--fill-color);\n",
              "    }\n",
              "    40% {\n",
              "      border-color: transparent;\n",
              "      border-right-color: var(--fill-color);\n",
              "      border-top-color: var(--fill-color);\n",
              "    }\n",
              "    60% {\n",
              "      border-color: transparent;\n",
              "      border-right-color: var(--fill-color);\n",
              "    }\n",
              "    80% {\n",
              "      border-color: transparent;\n",
              "      border-right-color: var(--fill-color);\n",
              "      border-bottom-color: var(--fill-color);\n",
              "    }\n",
              "    90% {\n",
              "      border-color: transparent;\n",
              "      border-bottom-color: var(--fill-color);\n",
              "    }\n",
              "  }\n",
              "</style>\n",
              "\n",
              "  <script>\n",
              "    async function quickchart(key) {\n",
              "      const quickchartButtonEl =\n",
              "        document.querySelector('#' + key + ' button');\n",
              "      quickchartButtonEl.disabled = true;  // To prevent multiple clicks.\n",
              "      quickchartButtonEl.classList.add('colab-df-spinner');\n",
              "      try {\n",
              "        const charts = await google.colab.kernel.invokeFunction(\n",
              "            'suggestCharts', [key], {});\n",
              "      } catch (error) {\n",
              "        console.error('Error during call to suggestCharts:', error);\n",
              "      }\n",
              "      quickchartButtonEl.classList.remove('colab-df-spinner');\n",
              "      quickchartButtonEl.classList.add('colab-df-quickchart-complete');\n",
              "    }\n",
              "    (() => {\n",
              "      let quickchartButtonEl =\n",
              "        document.querySelector('#df-d4c8797c-0278-408f-bac3-602e50c9560c button');\n",
              "      quickchartButtonEl.style.display =\n",
              "        google.colab.kernel.accessAllowed ? 'block' : 'none';\n",
              "    })();\n",
              "  </script>\n",
              "</div>\n",
              "\n",
              "    </div>\n",
              "  </div>\n"
            ],
            "application/vnd.google.colaboratory.intrinsic+json": {
              "type": "dataframe",
              "variable_name": "df",
              "summary": "{\n  \"name\": \"df\",\n  \"rows\": 5000,\n  \"fields\": [\n    {\n      \"column\": \"Text\",\n      \"properties\": {\n        \"dtype\": \"category\",\n        \"num_unique_values\": 15,\n        \"samples\": [\n          \"Schumpeterian dynamics influence market behavior in impact investing.\",\n          \"The lifecycle of investments can challenge the focus on social impact.\",\n          \"Social enterprises often struggle to balance profit and impact.\"\n        ],\n        \"semantic_type\": \"\",\n        \"description\": \"\"\n      }\n    },\n    {\n      \"column\": \"Sentiment\",\n      \"properties\": {\n        \"dtype\": \"category\",\n        \"num_unique_values\": 3,\n        \"samples\": [\n          \"positive\",\n          \"negative\",\n          \"neutral\"\n        ],\n        \"semantic_type\": \"\",\n        \"description\": \"\"\n      }\n    },\n    {\n      \"column\": \"Computed_Sentiment\",\n      \"properties\": {\n        \"dtype\": \"category\",\n        \"num_unique_values\": 2,\n        \"samples\": [\n          \"neutral\",\n          \"positive\"\n        ],\n        \"semantic_type\": \"\",\n        \"description\": \"\"\n      }\n    }\n  ]\n}"
            }
          },
          "metadata": {},
          "execution_count": 19
        }
      ]
    },
    {
      "cell_type": "code",
      "source": [
        "#10 Let's observe a user review\n",
        "df.columns\n",
        "\n",
        "# Replace 'Text' with the actual column name containing reviews\n",
        "df['Text'][0]"
      ],
      "metadata": {
        "colab": {
          "base_uri": "https://localhost:8080/",
          "height": 35
        },
        "id": "80dsfuZ8bOM-",
        "outputId": "6cea457d-29e1-437b-c21e-c3760712c61e"
      },
      "execution_count": 22,
      "outputs": [
        {
          "output_type": "execute_result",
          "data": {
            "text/plain": [
              "'Social enterprises often struggle to balance profit and impact.'"
            ],
            "application/vnd.google.colaboratory.intrinsic+json": {
              "type": "string"
            }
          },
          "metadata": {},
          "execution_count": 22
        }
      ]
    },
    {
      "cell_type": "code",
      "source": [
        "#28 Function for stemming\n",
        "def stemmer(text):\n",
        "    stemmer_object = SnowballStemmer('english')\n",
        "    return \" \".join([stemmer_object.stem(w) for w in text])"
      ],
      "metadata": {
        "id": "nu2SdaFBcHRr"
      },
      "execution_count": 23,
      "outputs": []
    },
    {
      "cell_type": "code",
      "source": [
        "#29 Testing the function\n",
        "text = \"The cats are running\"\n",
        "stemmed_text = stemmer(text.split())\n",
        "print(stemmed_text)"
      ],
      "metadata": {
        "colab": {
          "base_uri": "https://localhost:8080/"
        },
        "id": "z5daU9__cQjR",
        "outputId": "9512a343-6af4-43a3-fb1a-91b6f11180a5"
      },
      "execution_count": 24,
      "outputs": [
        {
          "output_type": "stream",
          "name": "stdout",
          "text": [
            "the cat are run\n"
          ]
        }
      ]
    },
    {
      "cell_type": "code",
      "source": [
        "#31 View the first review\n",
        "df['Text'][0]"
      ],
      "metadata": {
        "colab": {
          "base_uri": "https://localhost:8080/",
          "height": 35
        },
        "id": "w6K8-X7nccZ2",
        "outputId": "f3ffba21-b1e7-4841-ded3-4be32d1186cc"
      },
      "execution_count": 26,
      "outputs": [
        {
          "output_type": "execute_result",
          "data": {
            "text/plain": [
              "'Social enterprises often struggle to balance profit and impact.'"
            ],
            "application/vnd.google.colaboratory.intrinsic+json": {
              "type": "string"
            }
          },
          "metadata": {},
          "execution_count": 26
        }
      ]
    },
    {
      "cell_type": "markdown",
      "source": [],
      "metadata": {
        "id": "WuYNC_pCa7_1"
      }
    }
  ]
}