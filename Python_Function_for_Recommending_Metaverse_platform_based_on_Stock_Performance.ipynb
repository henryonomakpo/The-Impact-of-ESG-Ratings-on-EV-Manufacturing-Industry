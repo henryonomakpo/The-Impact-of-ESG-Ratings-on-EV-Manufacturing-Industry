{
  "nbformat": 4,
  "nbformat_minor": 0,
  "metadata": {
    "colab": {
      "provenance": [],
      "authorship_tag": "ABX9TyNDVOMIQbKmb/EZHEGit8bQ",
      "include_colab_link": true
    },
    "kernelspec": {
      "name": "python3",
      "display_name": "Python 3"
    },
    "language_info": {
      "name": "python"
    }
  },
  "cells": [
    {
      "cell_type": "markdown",
      "metadata": {
        "id": "view-in-github",
        "colab_type": "text"
      },
      "source": [
        "<a href=\"https://colab.research.google.com/github/henryonomakpo/The-Impact-of-ESG-Ratings-on-EV-Manufacturing-Industry/blob/main/Python_Function_for_Recommending_Metaverse_platform_based_on_Stock_Performance.ipynb\" target=\"_parent\"><img src=\"https://colab.research.google.com/assets/colab-badge.svg\" alt=\"Open In Colab\"/></a>"
      ]
    },
    {
      "cell_type": "markdown",
      "source": [
        "# Import the necessary libraries"
      ],
      "metadata": {
        "id": "MiOcpGFFd3dT"
      }
    },
    {
      "cell_type": "code",
      "source": [
        "\n",
        "#!pip install scikit-surprise\n",
        "!pip install yesg"
      ],
      "metadata": {
        "colab": {
          "base_uri": "https://localhost:8080/"
        },
        "id": "veIM6_zpt4Ra",
        "outputId": "2bd069b5-916d-4108-b0da-158e194d7c5c"
      },
      "execution_count": 64,
      "outputs": [
        {
          "output_type": "stream",
          "name": "stdout",
          "text": [
            "Requirement already satisfied: scikit-surprise in /usr/local/lib/python3.10/dist-packages (1.1.4)\n",
            "Requirement already satisfied: joblib>=1.2.0 in /usr/local/lib/python3.10/dist-packages (from scikit-surprise) (1.4.2)\n",
            "Requirement already satisfied: numpy>=1.19.5 in /usr/local/lib/python3.10/dist-packages (from scikit-surprise) (1.26.4)\n",
            "Requirement already satisfied: scipy>=1.6.0 in /usr/local/lib/python3.10/dist-packages (from scikit-surprise) (1.13.1)\n",
            "Requirement already satisfied: scikit-surprise in /usr/local/lib/python3.10/dist-packages (1.1.4)\n",
            "Requirement already satisfied: joblib>=1.2.0 in /usr/local/lib/python3.10/dist-packages (from scikit-surprise) (1.4.2)\n",
            "Requirement already satisfied: numpy>=1.19.5 in /usr/local/lib/python3.10/dist-packages (from scikit-surprise) (1.26.4)\n",
            "Requirement already satisfied: scipy>=1.6.0 in /usr/local/lib/python3.10/dist-packages (from scikit-surprise) (1.13.1)\n",
            "Collecting yesg\n",
            "  Downloading yesg-2.1.1.tar.gz (5.8 kB)\n",
            "  Preparing metadata (setup.py) ... \u001b[?25l\u001b[?25hdone\n",
            "Building wheels for collected packages: yesg\n",
            "  Building wheel for yesg (setup.py) ... \u001b[?25l\u001b[?25hdone\n",
            "  Created wheel for yesg: filename=yesg-2.1.1-py3-none-any.whl size=6105 sha256=f33abb1c39f32b5740826d1eed5d5630ea1df5ed5c32b85672c74762afcc2ec5\n",
            "  Stored in directory: /root/.cache/pip/wheels/2b/53/0e/129a8d67d809bf89a196f3ea3e56b9df3da4975924157cb1a3\n",
            "Successfully built yesg\n",
            "Installing collected packages: yesg\n",
            "Successfully installed yesg-2.1.1\n"
          ]
        }
      ]
    },
    {
      "cell_type": "code",
      "execution_count": 53,
      "metadata": {
        "id": "ldRAe-Sedsv0"
      },
      "outputs": [],
      "source": [
        "# Import the necessary libraries\n",
        "\n",
        "import datetime as dt\n",
        "import pandas_datareader.data as web\n",
        "import pandas as pd\n",
        "import numpy as np\n",
        "import yfinance as yf\n",
        "import pandas as pd\n",
        "import numpy as np\n",
        "import matplotlib.pyplot as plt\n",
        "from cvxopt import matrix, solvers\n",
        "import seaborn as sns\n",
        "import warnings\n",
        "warnings.filterwarnings(\"ignore\")\n"
      ]
    },
    {
      "cell_type": "code",
      "source": [
        "\n",
        "\n",
        "# Define the list of stock tickers\n",
        "stock_tickers = ['AAPL', 'AMZN', 'GOOG', 'MSFT', 'NVDA', 'NFLX']\n",
        "\n",
        "# Fetch stock prices data\n",
        "stock_data = yf.download(stock_tickers, start='2021-01-01', end='2021-12-31')['Adj Close']\n",
        "\n",
        "# Calculate daily returns\n",
        "returns = stock_data.pct_change().dropna()\n",
        "\n",
        "# Calculate expected returns and covariance matrix\n",
        "mu = np.mean(returns, axis=0)\n",
        "S = np.cov(returns, rowvar=False)\n",
        "\n",
        "# Define the objective function and constraints for portfolio optimization\n",
        "n = len(stock_tickers)\n",
        "P = matrix(S)\n",
        "q = matrix(np.zeros(n))\n",
        "G = matrix(np.vstack((-np.eye(n), np.eye(n))))\n",
        "h = matrix(np.hstack((np.zeros(n), np.ones(n))))\n",
        "A = matrix(1.0, (1, n))\n",
        "b = matrix(1.0)\n",
        "\n",
        "# Solve the quadratic optimization problem\n",
        "solvers.options['show_progress'] = False\n",
        "sol = solvers.qp(P, q, G, h, A, b)\n",
        "#weights = np.array(sol['x'])\n",
        "\n",
        "# Flatten the weights array\n",
        "weights = np.array(sol['x']).flatten()\n",
        "\n",
        "# Plot the optimized portfolio weights\n",
        "fig, ax = plt.subplots()\n",
        "ax.pie(weights, labels=stock_tickers, autopct='%1.1f%%')\n",
        "plt.title('Optimized Portfolio Weights')\n",
        "plt.show()"
      ],
      "metadata": {
        "colab": {
          "base_uri": "https://localhost:8080/",
          "height": 446
        },
        "id": "ojvYt20ZsAkj",
        "outputId": "296bef56-be4c-4f98-88d5-8ad46b2e4ab7"
      },
      "execution_count": 54,
      "outputs": [
        {
          "output_type": "stream",
          "name": "stderr",
          "text": [
            "[*********************100%%**********************]  6 of 6 completed\n"
          ]
        },
        {
          "output_type": "display_data",
          "data": {
            "text/plain": [
              "<Figure size 640x480 with 1 Axes>"
            ],
            "image/png": "[encoded data removed]"
          },
          "metadata": {}
        }
      ]
    },
    {
      "cell_type": "markdown",
      "source": [
        "### we fetch historical stock data and ESG ratings for the metaverse stocks from Yahoo Finance.\n",
        "### We then prepare the data for the Surprise library by creating a dataset with stock symbols and their corresponding ESG ratings. Next, we build and evaluate a recommendation model using the SVD algorithm provided by Surprise."
      ],
      "metadata": {
        "id": "UnS36xZA18C7"
      }
    },
    {
      "cell_type": "code",
      "source": [
        "# Import the YESG package\n",
        "import yesg\n",
        "\n",
        "# Get historic ESG scores for THE BOEING COMPANY\n",
        "historic_scores = yesg.get_historic_esg('NVDA')\n",
        "print(\"Historic ESG Scores:\")\n",
        "print(historic_scores)"
      ],
      "metadata": {
        "colab": {
          "base_uri": "https://localhost:8080/"
        },
        "id": "H113ZLVs8E7X",
        "outputId": "7f42ca12-8ea8-491d-bd2b-1c9cda02e8e7"
      },
      "execution_count": 77,
      "outputs": [
        {
          "output_type": "stream",
          "name": "stdout",
          "text": [
            "Historic ESG Scores:\n",
            "            Total-Score  E-Score  S-Score  G-Score\n",
            "Date                                              \n",
            "2014-09-01        71.00     76.0    64.00    73.00\n",
            "2014-10-01        70.00     76.0    64.00    73.00\n",
            "2014-11-01        71.00     76.0    64.00    73.00\n",
            "2014-12-01        71.00     76.0    64.00    73.00\n",
            "2015-01-01        71.00     76.0    64.00    73.00\n",
            "...                 ...      ...      ...      ...\n",
            "2023-05-01          NaN      NaN      NaN      NaN\n",
            "2023-06-01          NaN      NaN      NaN      NaN\n",
            "2023-07-01          NaN      NaN      NaN      NaN\n",
            "2023-08-01          NaN      NaN      NaN      NaN\n",
            "2023-09-01        13.59      2.3     4.95     6.34\n",
            "\n",
            "[109 rows x 4 columns]\n"
          ]
        }
      ]
    },
    {
      "cell_type": "markdown",
      "source": [
        "### These recommendations are derived from the historical stock price performance correlation with Decentraland.\n",
        "### The quest for insightful recommendations continues!"
      ],
      "metadata": {
        "id": "FayaTESzC502"
      }
    },
    {
      "cell_type": "code",
      "source": [
        "# Import the necessary libraries\n",
        "import yfinance as yf\n",
        "\n",
        "# Define the list of Metaverse firms along with their ticker symbols\n",
        "metaverse_firms = {\n",
        "    'Decentraland': 'MANA',\n",
        "    'The Sandbox': 'SAND',\n",
        "    'Cryptovoxels': 'VOX',\n",
        "    'Roblox': 'RBLX',\n",
        "    'Microsoft Mesh': 'MSFT',\n",
        "    'Nvidia Omniverse': 'NVDA'\n",
        "}\n",
        "\n",
        "# Function to fetch historical stock price data for a given firm\n",
        "def get_historical_stock_prices(ticker_symbol, period='1mo'):\n",
        "    stock_data = yf.Ticker(ticker_symbol).history(period=period)\n",
        "    return stock_data\n",
        "\n",
        "# Define a function to recommend firms based on historical stock price performance\n",
        "def recommend_firms_by_stock_performance(target_firm, num_recommendations=3):\n",
        "    recommendations = []\n",
        "    target_stock_data = get_historical_stock_prices(metaverse_firms[target_firm])\n",
        "\n",
        "    for firm, ticker_symbol in metaverse_firms.items():\n",
        "        if firm != target_firm:\n",
        "            stock_data = get_historical_stock_prices(ticker_symbol)\n",
        "\n",
        "            # Compare historical stock prices for recommendation\n",
        "            similarity_score = target_stock_data['Close'].corr(stock_data['Close'])\n",
        "            recommendations.append((firm, similarity_score))\n",
        "\n",
        "    # Sort recommendations based on the similarity score\n",
        "    recommendations.sort(key=lambda x: x[1], reverse=True)\n",
        "\n",
        "    # Return top recommended firms\n",
        "    return [firm for firm, _ in recommendations[:num_recommendations]]\n",
        "\n",
        "# Choose a target firm for recommendation\n",
        "target_firm = 'Decentraland'\n",
        "\n",
        "# Get recommended firms based on historical stock price performance\n",
        "recommendations = recommend_firms_by_stock_performance(target_firm)\n",
        "\n",
        "# Display the recommended firms\n",
        "print(f\"Recommended firms based on historical stock price for {target_firm}:\")\n",
        "for firm in recommendations:\n",
        "    print(firm)"
      ],
      "metadata": {
        "colab": {
          "base_uri": "https://localhost:8080/"
        },
        "id": "bkyxzFY_d_ZP",
        "outputId": "6cb56db2-fc4c-4f79-e3ce-d4fa69b399a6"
      },
      "execution_count": 83,
      "outputs": [
        {
          "output_type": "stream",
          "name": "stdout",
          "text": [
            "Recommended firms based on historical stock price for Decentraland:\n",
            "Microsoft Mesh\n",
            "Nvidia Omniverse\n",
            "The Sandbox\n"
          ]
        }
      ]
    },
    {
      "cell_type": "markdown",
      "source": [
        "### Python Function for Recommending Metaverse platform based on Stock Performance"
      ],
      "metadata": {
        "id": "RpjaNXSiDIsx"
      }
    },
    {
      "cell_type": "code",
      "source": [
        "# Define the list of Metaverse firms\n",
        "metaverse_firms = ['Decentraland', 'The Sandbox', 'Cryptovoxels', 'Somnium Space', 'Roblox', 'Microsoft Mesh', 'Nvidia Omniverse']\n",
        "\n",
        "# Define some characteristics or features for each firm (for demonstration purposes)\n",
        "firm_features = {\n",
        "    'Decentraland': ['Virtual Land', 'NFTs', 'Decentralized'],\n",
        "    'The Sandbox': ['Game Development', 'Virtual World', 'User-Generated Content'],\n",
        "    'Cryptovoxels': ['Virtual Reality', 'Blockchain Integration', 'Digital Real Estate'],\n",
        "    'Somnium Space': ['Social VR', 'Persistent VR World', 'Blockchain Economy'],\n",
        "    'Roblox': ['User-Generated Games', 'Online Platform', 'Virtual Economy'],\n",
        "    'Microsoft Mesh': ['Mixed Reality', 'Collaboration Platform', 'HoloLens Integration'],\n",
        "    'Nvidia Omniverse': ['3D Design', 'Real-time Collaboration', 'Physically Accurate Simulation']\n",
        "}\n",
        "\n",
        "# Define a function to recommend similar firms based on firm features\n",
        "def recommend_similar_firms(target_firm, num_recommendations=3):\n",
        "    similar_firms = []\n",
        "    target_features = firm_features.get(target_firm)\n",
        "\n",
        "    if target_features:\n",
        "        for firm, features in firm_features.items():\n",
        "            if firm != target_firm:\n",
        "                common_features = set(target_features).intersection(features)\n",
        "                similarity_score = len(common_features) / len(target_features)\n",
        "                similar_firms.append((firm, similarity_score))\n",
        "\n",
        "        # Sort similar firms based on similarity score\n",
        "        similar_firms.sort(key=lambda x: x[1], reverse=True)\n",
        "\n",
        "        # Return top recommended firms\n",
        "        return [firm for firm, _ in similar_firms[:num_recommendations]]\n",
        "    else:\n",
        "        return \"Firm not found in the list of Metaverse firms.\"\n",
        "\n",
        "# Choose a target firm for recommendation\n",
        "target_firm = 'Decentraland'\n",
        "\n",
        "# Get recommended firms for the target firm\n",
        "recommendations = recommend_similar_firms(target_firm)\n",
        "\n",
        "# Display the recommended firms\n",
        "print(f\"Recommended firms for {target_firm}:\")\n",
        "for firm in recommendations:\n",
        "    print(firm)"
      ],
      "metadata": {
        "colab": {
          "base_uri": "https://localhost:8080/"
        },
        "id": "zwRk0rj29XOw",
        "outputId": "9163b279-cc90-4ec7-e0ea-95655ec88f6c"
      },
      "execution_count": 85,
      "outputs": [
        {
          "output_type": "stream",
          "name": "stdout",
          "text": [
            "Recommended firms for Decentraland:\n",
            "The Sandbox\n",
            "Cryptovoxels\n",
            "Somnium Space\n"
          ]
        }
      ]
    },
    {
      "cell_type": "code",
      "source": [],
      "metadata": {
        "id": "zywQ1i4S9XoW"
      },
      "execution_count": null,
      "outputs": []
    },
    {
      "cell_type": "code",
      "source": [
        "# Import the YESG package\n",
        "import yesg\n",
        "\n",
        "# Get historic ESG scores for THE BOEING COMPANY\n",
        "historic_scores = yesg.get_historic_esg('BA')\n",
        "print(\"Historic ESG Scores:\")\n",
        "print(historic_scores)\n",
        "\n"
      ],
      "metadata": {
        "colab": {
          "base_uri": "https://localhost:8080/"
        },
        "id": "IEdu7bjf4ZCw",
        "outputId": "9a8ebb41-2560-4e04-eb47-b16f8ca7299f"
      },
      "execution_count": 76,
      "outputs": [
        {
          "output_type": "stream",
          "name": "stdout",
          "text": [
            "Historic ESG Scores:\n",
            "            Total-Score  E-Score  S-Score  G-Score\n",
            "Date                                              \n",
            "2014-09-01         60.0    64.00    51.00    64.00\n",
            "2014-10-01         60.0    64.00    51.00    64.00\n",
            "2014-11-01         60.0    64.00    51.00    64.00\n",
            "2014-12-01         60.0    64.00    51.00    64.00\n",
            "2015-01-01         62.0    69.00    54.00    64.00\n",
            "...                 ...      ...      ...      ...\n",
            "2023-05-01          NaN      NaN      NaN      NaN\n",
            "2023-06-01          NaN      NaN      NaN      NaN\n",
            "2023-07-01          NaN      NaN      NaN      NaN\n",
            "2023-08-01          NaN      NaN      NaN      NaN\n",
            "2023-09-01         39.6     8.84    22.48     8.29\n",
            "\n",
            "[109 rows x 4 columns]\n"
          ]
        }
      ]
    },
    {
      "cell_type": "code",
      "source": [
        "import pandas as pd\n",
        "\n",
        "# Sample data for metaverse platforms and sustainability ratings\n",
        "metaverse_platforms_data = {\n",
        "    'Platform': ['Decentraland', 'The Sandbox', 'Cryptovoxels', 'Somnium Space', 'Roblox', 'Microsoft Mesh', 'Nvidia Omniverse'],\n",
        "    'Category': ['Virtual World', 'Game Creation', 'Virtual World', 'Virtual World', 'Game Creation', 'Virtual World', 'Virtual World'],\n",
        "    'Sustainability Rating': [4.2, 3.9, 4.1, 4.0, 3.8, 4.2, 4.3]\n",
        "}\n",
        "\n",
        "metaverse_stocks_data = {\n",
        "    'Stock': ['META', 'RBLX', 'U', 'ZM', 'GOOGL'],\n",
        "    'Sector': ['Metaverse', 'Metaverse', 'Metaverse', 'Tech', 'Tech'],\n",
        "    'Sustainability Rating': [4.3, 3.7, 4.2, 3.9, 4.1]\n",
        "}\n",
        "\n",
        "# Create DataFrames from the sample data\n",
        "metaverse_platforms_df = pd.DataFrame(metaverse_platforms_data)\n",
        "metaverse_stocks_df = pd.DataFrame(metaverse_stocks_data)\n",
        "\n",
        "# Function to recommend metaverse platforms and stocks based on sustainability ratings\n",
        "def recommend_metaverse_items(min_rating):\n",
        "    recommended_platforms = metaverse_platforms_df[metaverse_platforms_df['Sustainability Rating'] >= min_rating]\n",
        "    recommended_stocks = metaverse_stocks_df[metaverse_stocks_df['Sustainability Rating'] >= min_rating]\n",
        "\n",
        "    return recommended_platforms, recommended_stocks\n",
        "\n",
        "# Minimum sustainability rating for recommendation\n",
        "min_sustainability_rating = 4.0\n",
        "\n",
        "# Call the recommendation function\n",
        "recommended_platforms, recommended_stocks = recommend_metaverse_items(min_sustainability_rating)\n",
        "\n",
        "# Display the recommended items\n",
        "print(\"Recommended Metaverse Platforms:\")\n",
        "print(recommended_platforms)\n",
        "print(\"\\nRecommended Metaverse Stocks:\")\n",
        "print(recommended_stocks)"
      ],
      "metadata": {
        "colab": {
          "base_uri": "https://localhost:8080/"
        },
        "id": "AMUsg2E6vmqb",
        "outputId": "80d0e892-d4ff-4f1e-f260-e70a8c4e98fa"
      },
      "execution_count": 57,
      "outputs": [
        {
          "output_type": "stream",
          "name": "stdout",
          "text": [
            "Recommended Metaverse Platforms:\n",
            "           Platform       Category  Sustainability Rating\n",
            "0      Decentraland  Virtual World                    4.2\n",
            "2      Cryptovoxels  Virtual World                    4.1\n",
            "3     Somnium Space  Virtual World                    4.0\n",
            "5    Microsoft Mesh  Virtual World                    4.2\n",
            "6  Nvidia Omniverse  Virtual World                    4.3\n",
            "\n",
            "Recommended Metaverse Stocks:\n",
            "   Stock     Sector  Sustainability Rating\n",
            "0   META  Metaverse                    4.3\n",
            "2      U  Metaverse                    4.2\n",
            "4  GOOGL       Tech                    4.1\n"
          ]
        }
      ]
    },
    {
      "cell_type": "markdown",
      "source": [
        "# Recommender in Python\n",
        "### Fetch dataset or historical stock prices from yahoo"
      ],
      "metadata": {
        "id": "P5L5N_slgBGc"
      }
    },
    {
      "cell_type": "code",
      "source": [
        "import pandas as pd\n",
        "\n",
        "# Sample data for metaverse platforms and sustainability ratings\n",
        "metaverse_platforms_data = {\n",
        "    'Platform': ['Decentraland', 'The Sandbox', 'Cryptovoxels', 'Somnium Space', 'Roblox'],\n",
        "    'Category': ['Virtual World', 'Game Creation', 'Virtual World', 'Virtual World', 'Game Creation'],\n",
        "    'Sustainability Rating': [4.2, 3.9, 4.1, 4.0, 3.8]\n",
        "}\n",
        "\n",
        "metaverse_stocks_data = {\n",
        "    'Stock': ['META', 'RBLX', 'U', 'ZM', 'GOOGL'],\n",
        "    'Sector': ['Metaverse', 'Metaverse', 'Metaverse', 'Tech', 'Tech'],\n",
        "    'Sustainability Rating': [4.3, 3.7, 4.2, 3.9, 4.1]\n",
        "}\n",
        "\n",
        "# Create DataFrames from the sample data\n",
        "metaverse_platforms_df = pd.DataFrame(metaverse_platforms_data)\n",
        "metaverse_stocks_df = pd.DataFrame(metaverse_stocks_data)\n",
        "\n",
        "# Function to recommend metaverse platforms and stocks based on sustainability ratings\n",
        "def recommend_metaverse_items(min_rating):\n",
        "    recommended_platforms = metaverse_platforms_df[metaverse_platforms_df['Sustainability Rating'] >= min_rating]\n",
        "    recommended_stocks = metaverse_stocks_df[metaverse_stocks_df['Sustainability Rating'] >= min_rating]\n",
        "\n",
        "    return recommended_platforms, recommended_stocks\n",
        "\n",
        "# Minimum sustainability rating for recommendation\n",
        "min_sustainability_rating = 4.0\n",
        "\n",
        "# Call the recommendation function\n",
        "recommended_platforms, recommended_stocks = recommend_metaverse_items(min_sustainability_rating)\n",
        "\n",
        "# Display the recommended items\n",
        "print(\"Recommended Metaverse Platforms:\")\n",
        "print(recommended_platforms)\n",
        "print(\"\\nRecommended Metaverse Stocks:\")\n",
        "print(recommended_stocks)"
      ],
      "metadata": {
        "colab": {
          "base_uri": "https://localhost:8080/"
        },
        "id": "hitTze5afYGC",
        "outputId": "eb7e9d00-5df2-44f7-8165-26ff91423a91"
      },
      "execution_count": 56,
      "outputs": [
        {
          "output_type": "stream",
          "name": "stdout",
          "text": [
            "Recommended Metaverse Platforms:\n",
            "        Platform       Category  Sustainability Rating\n",
            "0   Decentraland  Virtual World                    4.2\n",
            "2   Cryptovoxels  Virtual World                    4.1\n",
            "3  Somnium Space  Virtual World                    4.0\n",
            "\n",
            "Recommended Metaverse Stocks:\n",
            "   Stock     Sector  Sustainability Rating\n",
            "0   META  Metaverse                    4.3\n",
            "2      U  Metaverse                    4.2\n",
            "4  GOOGL       Tech                    4.1\n"
          ]
        }
      ]
    },
    {
      "cell_type": "code",
      "source": [
        "import pandas as pd\n",
        "import yfinance as yf\n",
        "\n",
        "# Sample data for metaverse stocks\n",
        "metaverse_stocks_data = {\n",
        "    'Stock': ['META', 'RBLX', 'U', 'ZM', 'GOOGL'],\n",
        "    'Sector': ['Metaverse', 'Metaverse', 'Metaverse', 'Tech', 'Tech']\n",
        "}\n",
        "\n",
        "# Create DataFrame from the sample data\n",
        "metaverse_stocks_df = pd.DataFrame(metaverse_stocks_data)\n",
        "\n",
        "# Function to fetch historical stock data and ESG ratings from Yahoo Finance\n",
        "def fetch_stock_data(stock_symbol):\n",
        "    stock = yf.Ticker(stock_symbol)\n",
        "    historical_data = stock.history(period='1y')\n",
        "    esg_rating = stock.sustainability\n",
        "\n",
        "    return historical_data, esg_rating\n",
        "\n",
        "# Fetch historical stock data and ESG ratings for each metaverse stock\n",
        "for index, row in metaverse_stocks_df.iterrows():\n",
        "    stock_symbol = row['Stock']\n",
        "    historical_data, esg_rating = fetch_stock_data(stock_symbol)\n",
        "\n",
        "    print(f\"Stock: {stock_symbol}\")\n",
        "    print(\"Historical Stock Data:\")\n",
        "    print(historical_data)\n",
        "    print(\"\\nESG Rating:\")\n",
        "    print(esg_rating)\n",
        "    print(\"\\n---------------------------------\\n\")\n"
      ],
      "metadata": {
        "colab": {
          "base_uri": "https://localhost:8080/"
        },
        "id": "_oXu8k0MfYct",
        "outputId": "d6b8b31b-b222-4b7b-9756-27ca6531c9b6"
      },
      "execution_count": 84,
      "outputs": [
        {
          "output_type": "stream",
          "name": "stdout",
          "text": [
            "Stock: META\n",
            "Historical Stock Data:\n",
            "                                 Open        High         Low       Close  \\\n",
            "Date                                                                        \n",
            "2023-08-09 00:00:00-04:00  312.238360  312.986822  302.228930  304.584076   \n",
            "2023-08-10 00:00:00-04:00  307.308507  311.699478  303.246846  305.113007   \n",
            "2023-08-11 00:00:00-04:00  301.949509  304.095094  299.744019  301.021423   \n",
            "2023-08-14 00:00:00-04:00  300.362766  305.582021  297.638354  305.562073   \n",
            "2023-08-15 00:00:00-04:00  305.512221  306.599982  299.414734  301.330811   \n",
            "...                               ...         ...         ...         ...   \n",
            "2024-08-05 00:00:00-04:00  451.350006  483.480011  450.799988  475.730011   \n",
            "2024-08-06 00:00:00-04:00  479.000000  502.559998  478.649994  494.089996   \n",
            "2024-08-07 00:00:00-04:00  503.130005  510.149994  486.859985  488.920013   \n",
            "2024-08-08 00:00:00-04:00  497.500000  509.959991  494.720001  509.630005   \n",
            "2024-08-09 00:00:00-04:00  507.739990  515.265015  505.739990  512.190002   \n",
            "\n",
            "                             Volume  Dividends  Stock Splits  \n",
            "Date                                                          \n",
            "2023-08-09 00:00:00-04:00  19955800        0.0           0.0  \n",
            "2023-08-10 00:00:00-04:00  14358900        0.0           0.0  \n",
            "2023-08-11 00:00:00-04:00  13967800        0.0           0.0  \n",
            "2023-08-14 00:00:00-04:00  15641900        0.0           0.0  \n",
            "2023-08-15 00:00:00-04:00  11623600        0.0           0.0  \n",
            "...                             ...        ...           ...  \n",
            "2024-08-05 00:00:00-04:00  21396200        0.0           0.0  \n",
            "2024-08-06 00:00:00-04:00  20955000        0.0           0.0  \n",
            "2024-08-07 00:00:00-04:00  20105300        0.0           0.0  \n",
            "2024-08-08 00:00:00-04:00  16111300        0.0           0.0  \n",
            "2024-08-09 00:00:00-04:00   7731081        0.0           0.0  \n",
            "\n",
            "[253 rows x 7 columns]\n",
            "\n",
            "ESG Rating:\n",
            "                                                                           esgScores\n",
            "adult                                                                          False\n",
            "alcoholic                                                                      False\n",
            "animalTesting                                                                  False\n",
            "catholic                                                                       False\n",
            "coal                                                                           False\n",
            "controversialWeapons                                                           False\n",
            "environmentPercentile                                                           None\n",
            "environmentScore                                                                2.71\n",
            "esgPerformance                                                              OUT_PERF\n",
            "furLeather                                                                     False\n",
            "gambling                                                                       False\n",
            "gmo                                                                            False\n",
            "governancePercentile                                                            None\n",
            "governanceScore                                                                10.29\n",
            "highestControversy                                                               4.0\n",
            "maxAge                                                                         86400\n",
            "militaryContract                                                               False\n",
            "nuclear                                                                        False\n",
            "palmOil                                                                        False\n",
            "peerCount                                                                        105\n",
            "peerEnvironmentPerformance         {'min': 0.07, 'avg': 2.5702912621359224, 'max'...\n",
            "peerEsgScorePerformance            {'min': 9.84, 'avg': 18.17809523809525, 'max':...\n",
            "peerGovernancePerformance          {'min': 3.47, 'avg': 6.753495145631067, 'max':...\n",
            "peerGroup                                                        Software & Services\n",
            "peerHighestControversyPerformance  {'min': 0.0, 'avg': 1.5333333333333334, 'max':...\n",
            "peerSocialPerformance              {'min': 4.61, 'avg': 8.862038834951454, 'max':...\n",
            "percentile                                                                     81.17\n",
            "pesticides                                                                     False\n",
            "ratingMonth                                                                        9\n",
            "ratingYear                                                                      2023\n",
            "relatedControversy                                              [Customer Incidents]\n",
            "smallArms                                                                      False\n",
            "socialPercentile                                                                None\n",
            "socialScore                                                                    21.09\n",
            "tobacco                                                                        False\n",
            "totalEsg                                                                       34.08\n",
            "\n",
            "---------------------------------\n",
            "\n"
          ]
        },
        {
          "output_type": "stream",
          "name": "stderr",
          "text": [
            "ERROR:yfinance:404 Client Error: Not Found for url: https://query2.finance.yahoo.com/v10/finance/quoteSummary/RBLX?modules=esgScores&corsDomain=finance.yahoo.com&formatted=false&symbol=RBLX&crumb=DrFZk2q2vGO\n"
          ]
        },
        {
          "output_type": "stream",
          "name": "stdout",
          "text": [
            "Stock: RBLX\n",
            "Historical Stock Data:\n",
            "                                Open       High        Low      Close  \\\n",
            "Date                                                                    \n",
            "2023-08-09 00:00:00-04:00  32.439999  32.520000  29.070000  29.459999   \n",
            "2023-08-10 00:00:00-04:00  30.059999  31.170000  30.000000  30.610001   \n",
            "2023-08-11 00:00:00-04:00  30.120001  30.299999  29.639999  29.830000   \n",
            "2023-08-14 00:00:00-04:00  29.520000  30.605000  29.350000  30.540001   \n",
            "2023-08-15 00:00:00-04:00  30.170000  30.375999  29.760000  29.770000   \n",
            "...                              ...        ...        ...        ...   \n",
            "2024-08-05 00:00:00-04:00  36.599998  37.290001  35.299999  36.529999   \n",
            "2024-08-06 00:00:00-04:00  36.959999  38.110001  36.180000  37.669998   \n",
            "2024-08-07 00:00:00-04:00  38.110001  38.700001  36.070000  36.180000   \n",
            "2024-08-08 00:00:00-04:00  36.490002  37.320000  36.320000  37.169998   \n",
            "2024-08-09 00:00:00-04:00  37.330002  37.549999  36.770000  37.110001   \n",
            "\n",
            "                             Volume  Dividends  Stock Splits  \n",
            "Date                                                          \n",
            "2023-08-09 00:00:00-04:00  57181600        0.0           0.0  \n",
            "2023-08-10 00:00:00-04:00  23008100        0.0           0.0  \n",
            "2023-08-11 00:00:00-04:00  13459600        0.0           0.0  \n",
            "2023-08-14 00:00:00-04:00  12842100        0.0           0.0  \n",
            "2023-08-15 00:00:00-04:00   8076000        0.0           0.0  \n",
            "...                             ...        ...           ...  \n",
            "2024-08-05 00:00:00-04:00  13114000        0.0           0.0  \n",
            "2024-08-06 00:00:00-04:00   9997900        0.0           0.0  \n",
            "2024-08-07 00:00:00-04:00   6472100        0.0           0.0  \n",
            "2024-08-08 00:00:00-04:00   6216100        0.0           0.0  \n",
            "2024-08-09 00:00:00-04:00   1560665        0.0           0.0  \n",
            "\n",
            "[253 rows x 7 columns]\n",
            "\n",
            "ESG Rating:\n",
            "Empty DataFrame\n",
            "Columns: []\n",
            "Index: []\n",
            "\n",
            "---------------------------------\n",
            "\n"
          ]
        },
        {
          "output_type": "stream",
          "name": "stderr",
          "text": [
            "ERROR:yfinance:404 Client Error: Not Found for url: https://query2.finance.yahoo.com/v10/finance/quoteSummary/U?modules=esgScores&corsDomain=finance.yahoo.com&formatted=false&symbol=U&crumb=DrFZk2q2vGO\n"
          ]
        },
        {
          "output_type": "stream",
          "name": "stdout",
          "text": [
            "Stock: U\n",
            "Historical Stock Data:\n",
            "                                Open       High        Low      Close  \\\n",
            "Date                                                                    \n",
            "2023-08-09 00:00:00-04:00  38.529999  38.720001  37.259998  37.560001   \n",
            "2023-08-10 00:00:00-04:00  37.810001  38.525002  36.709999  37.090000   \n",
            "2023-08-11 00:00:00-04:00  36.380001  37.000000  36.009998  36.630001   \n",
            "2023-08-14 00:00:00-04:00  35.880001  36.560001  35.220001  36.540001   \n",
            "2023-08-15 00:00:00-04:00  36.200001  36.320000  35.060001  35.320000   \n",
            "...                              ...        ...        ...        ...   \n",
            "2024-08-05 00:00:00-04:00  13.960000  14.885000  13.910000  14.480000   \n",
            "2024-08-06 00:00:00-04:00  14.700000  14.710000  14.100000  14.250000   \n",
            "2024-08-07 00:00:00-04:00  14.250000  14.850000  13.895000  13.930000   \n",
            "2024-08-08 00:00:00-04:00  14.030000  14.565000  13.940000  14.360000   \n",
            "2024-08-09 00:00:00-04:00  14.800000  16.480000  14.680000  15.265000   \n",
            "\n",
            "                             Volume  Dividends  Stock Splits  \n",
            "Date                                                          \n",
            "2023-08-09 00:00:00-04:00   9586800        0.0           0.0  \n",
            "2023-08-10 00:00:00-04:00   7749900        0.0           0.0  \n",
            "2023-08-11 00:00:00-04:00   7650400        0.0           0.0  \n",
            "2023-08-14 00:00:00-04:00   7269900        0.0           0.0  \n",
            "2023-08-15 00:00:00-04:00   7983700        0.0           0.0  \n",
            "...                             ...        ...           ...  \n",
            "2024-08-05 00:00:00-04:00  12415200        0.0           0.0  \n",
            "2024-08-06 00:00:00-04:00   8327800        0.0           0.0  \n",
            "2024-08-07 00:00:00-04:00  11881800        0.0           0.0  \n",
            "2024-08-08 00:00:00-04:00  18031800        0.0           0.0  \n",
            "2024-08-09 00:00:00-04:00  24796267        0.0           0.0  \n",
            "\n",
            "[253 rows x 7 columns]\n",
            "\n",
            "ESG Rating:\n",
            "Empty DataFrame\n",
            "Columns: []\n",
            "Index: []\n",
            "\n",
            "---------------------------------\n",
            "\n"
          ]
        },
        {
          "output_type": "stream",
          "name": "stderr",
          "text": [
            "ERROR:yfinance:404 Client Error: Not Found for url: https://query2.finance.yahoo.com/v10/finance/quoteSummary/ZM?modules=esgScores&corsDomain=finance.yahoo.com&formatted=false&symbol=ZM&crumb=DrFZk2q2vGO\n"
          ]
        },
        {
          "output_type": "stream",
          "name": "stdout",
          "text": [
            "Stock: ZM\n",
            "Historical Stock Data:\n",
            "                                Open       High        Low      Close  \\\n",
            "Date                                                                    \n",
            "2023-08-09 00:00:00-04:00  67.510002  67.610001  66.150002  66.550003   \n",
            "2023-08-10 00:00:00-04:00  67.809998  68.789001  66.974998  67.470001   \n",
            "2023-08-11 00:00:00-04:00  66.550003  67.250000  66.230003  66.599998   \n",
            "2023-08-14 00:00:00-04:00  66.199997  67.559998  65.589996  67.550003   \n",
            "2023-08-15 00:00:00-04:00  67.000000  67.410004  65.949997  66.059998   \n",
            "...                              ...        ...        ...        ...   \n",
            "2024-08-05 00:00:00-04:00  56.630001  56.869999  55.599998  55.630001   \n",
            "2024-08-06 00:00:00-04:00  55.880001  56.680000  55.610001  55.830002   \n",
            "2024-08-07 00:00:00-04:00  56.490002  57.430000  55.619999  55.720001   \n",
            "2024-08-08 00:00:00-04:00  56.360001  56.570000  56.000000  56.209999   \n",
            "2024-08-09 00:00:00-04:00  56.169998  56.529999  55.549999  55.930000   \n",
            "\n",
            "                            Volume  Dividends  Stock Splits  \n",
            "Date                                                         \n",
            "2023-08-09 00:00:00-04:00  2142900        0.0           0.0  \n",
            "2023-08-10 00:00:00-04:00  1976400        0.0           0.0  \n",
            "2023-08-11 00:00:00-04:00  1507100        0.0           0.0  \n",
            "2023-08-14 00:00:00-04:00  2202300        0.0           0.0  \n",
            "2023-08-15 00:00:00-04:00  2567500        0.0           0.0  \n",
            "...                            ...        ...           ...  \n",
            "2024-08-05 00:00:00-04:00  3765300        0.0           0.0  \n",
            "2024-08-06 00:00:00-04:00  3303500        0.0           0.0  \n",
            "2024-08-07 00:00:00-04:00  2838300        0.0           0.0  \n",
            "2024-08-08 00:00:00-04:00  2310000        0.0           0.0  \n",
            "2024-08-09 00:00:00-04:00   737466        0.0           0.0  \n",
            "\n",
            "[253 rows x 7 columns]\n",
            "\n",
            "ESG Rating:\n",
            "Empty DataFrame\n",
            "Columns: []\n",
            "Index: []\n",
            "\n",
            "---------------------------------\n",
            "\n",
            "Stock: GOOGL\n",
            "Historical Stock Data:\n",
            "                                 Open        High         Low       Close  \\\n",
            "Date                                                                        \n",
            "2023-08-09 00:00:00-04:00  131.509075  131.888629  128.852121  129.511368   \n",
            "2023-08-10 00:00:00-04:00  131.169472  131.898631  129.301606  129.541336   \n",
            "2023-08-11 00:00:00-04:00  128.512506  129.781039  128.023063  129.411469   \n",
            "2023-08-14 00:00:00-04:00  129.241665  131.219391  128.812165  131.179443   \n",
            "2023-08-15 00:00:00-04:00  130.949720  131.269345  129.131799  129.631226   \n",
            "...                               ...         ...         ...         ...   \n",
            "2024-08-05 00:00:00-04:00  155.500000  164.429993  154.929993  159.250000   \n",
            "2024-08-06 00:00:00-04:00  159.330002  160.570007  156.410004  158.289993   \n",
            "2024-08-07 00:00:00-04:00  161.250000  162.979996  158.470001  158.940002   \n",
            "2024-08-08 00:00:00-04:00  160.509995  163.690002  160.210007  162.029999   \n",
            "2024-08-09 00:00:00-04:00  160.009995  161.050003  159.059998  159.544998   \n",
            "\n",
            "                             Volume  Dividends  Stock Splits  \n",
            "Date                                                          \n",
            "2023-08-09 00:00:00-04:00  24912900        0.0           0.0  \n",
            "2023-08-10 00:00:00-04:00  20857800        0.0           0.0  \n",
            "2023-08-11 00:00:00-04:00  19569200        0.0           0.0  \n",
            "2023-08-14 00:00:00-04:00  24695600        0.0           0.0  \n",
            "2023-08-15 00:00:00-04:00  19770700        0.0           0.0  \n",
            "...                             ...        ...           ...  \n",
            "2024-08-05 00:00:00-04:00  53630700        0.0           0.0  \n",
            "2024-08-06 00:00:00-04:00  49004600        0.0           0.0  \n",
            "2024-08-07 00:00:00-04:00  25138600        0.0           0.0  \n",
            "2024-08-08 00:00:00-04:00  25557400        0.0           0.0  \n",
            "2024-08-09 00:00:00-04:00  13712198        0.0           0.0  \n",
            "\n",
            "[253 rows x 7 columns]\n",
            "\n",
            "ESG Rating:\n",
            "                                                                           esgScores\n",
            "adult                                                                          False\n",
            "alcoholic                                                                      False\n",
            "animalTesting                                                                  False\n",
            "catholic                                                                       False\n",
            "coal                                                                           False\n",
            "controversialWeapons                                                           False\n",
            "environmentPercentile                                                           None\n",
            "environmentScore                                                                1.56\n",
            "esgPerformance                                                              AVG_PERF\n",
            "furLeather                                                                     False\n",
            "gambling                                                                       False\n",
            "gmo                                                                            False\n",
            "governancePercentile                                                            None\n",
            "governanceScore                                                                11.51\n",
            "highestControversy                                                               4.0\n",
            "maxAge                                                                         86400\n",
            "militaryContract                                                               False\n",
            "nuclear                                                                        False\n",
            "palmOil                                                                        False\n",
            "peerCount                                                                        105\n",
            "peerEnvironmentPerformance         {'min': 0.07, 'avg': 2.5702912621359224, 'max'...\n",
            "peerEsgScorePerformance            {'min': 9.84, 'avg': 18.17809523809525, 'max':...\n",
            "peerGovernancePerformance          {'min': 3.47, 'avg': 6.753495145631067, 'max':...\n",
            "peerGroup                                                        Software & Services\n",
            "peerHighestControversyPerformance  {'min': 0.0, 'avg': 1.5333333333333334, 'max':...\n",
            "peerSocialPerformance              {'min': 4.61, 'avg': 8.862038834951454, 'max':...\n",
            "percentile                                                                     45.66\n",
            "pesticides                                                                     False\n",
            "ratingMonth                                                                        9\n",
            "ratingYear                                                                      2023\n",
            "relatedControversy                                              [Customer Incidents]\n",
            "smallArms                                                                      False\n",
            "socialPercentile                                                                None\n",
            "socialScore                                                                    11.16\n",
            "tobacco                                                                        False\n",
            "totalEsg                                                                       24.22\n",
            "\n",
            "---------------------------------\n",
            "\n"
          ]
        }
      ]
    }
  ]
}